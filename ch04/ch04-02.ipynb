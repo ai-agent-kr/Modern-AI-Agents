{
  "nbformat": 4,
  "nbformat_minor": 0,
  "metadata": {
    "colab": {
      "provenance": []
    },
    "kernelspec": {
      "name": "python3",
      "display_name": "Python 3"
    },
    "language_info": {
      "name": "python"
    }
  },
  "cells": [
    {
      "cell_type": "code",
      "execution_count": null,
      "metadata": {
        "colab": {
          "base_uri": "https://localhost:8080/"
        },
        "id": "HdjK6_UHC7uJ",
        "outputId": "f989c10a-7c58-44da-d342-7e9336050edc"
      },
      "outputs": [
        {
          "output_type": "stream",
          "name": "stdout",
          "text": [
            "Collecting ddgs\n",
            "  Downloading ddgs-9.6.0-py3-none-any.whl.metadata (18 kB)\n",
            "Collecting langchain_community\n",
            "  Downloading langchain_community-0.3.31-py3-none-any.whl.metadata (3.0 kB)\n",
            "Requirement already satisfied: click>=8.1.8 in /usr/local/lib/python3.12/dist-packages (from ddgs) (8.3.0)\n",
            "Collecting primp>=0.15.0 (from ddgs)\n",
            "  Downloading primp-0.15.0-cp38-abi3-manylinux_2_17_x86_64.manylinux2014_x86_64.whl.metadata (13 kB)\n",
            "Collecting lxml>=6.0.0 (from ddgs)\n",
            "  Downloading lxml-6.0.2-cp312-cp312-manylinux_2_26_x86_64.manylinux_2_28_x86_64.whl.metadata (3.6 kB)\n",
            "Requirement already satisfied: httpx>=0.28.1 in /usr/local/lib/python3.12/dist-packages (from httpx[brotli,http2,socks]>=0.28.1->ddgs) (0.28.1)\n",
            "Collecting langchain-core<2.0.0,>=0.3.78 (from langchain_community)\n",
            "  Downloading langchain_core-0.3.78-py3-none-any.whl.metadata (3.2 kB)\n",
            "Requirement already satisfied: langchain<2.0.0,>=0.3.27 in /usr/local/lib/python3.12/dist-packages (from langchain_community) (0.3.27)\n",
            "Requirement already satisfied: SQLAlchemy<3.0.0,>=1.4.0 in /usr/local/lib/python3.12/dist-packages (from langchain_community) (2.0.43)\n",
            "Collecting requests<3.0.0,>=2.32.5 (from langchain_community)\n",
            "  Downloading requests-2.32.5-py3-none-any.whl.metadata (4.9 kB)\n",
            "Requirement already satisfied: PyYAML<7.0.0,>=5.3.0 in /usr/local/lib/python3.12/dist-packages (from langchain_community) (6.0.3)\n",
            "Requirement already satisfied: aiohttp<4.0.0,>=3.8.3 in /usr/local/lib/python3.12/dist-packages (from langchain_community) (3.12.15)\n",
            "Requirement already satisfied: tenacity!=8.4.0,<10.0.0,>=8.1.0 in /usr/local/lib/python3.12/dist-packages (from langchain_community) (8.5.0)\n",
            "Collecting dataclasses-json<0.7.0,>=0.6.7 (from langchain_community)\n",
            "  Downloading dataclasses_json-0.6.7-py3-none-any.whl.metadata (25 kB)\n",
            "Requirement already satisfied: pydantic-settings<3.0.0,>=2.10.1 in /usr/local/lib/python3.12/dist-packages (from langchain_community) (2.11.0)\n",
            "Requirement already satisfied: langsmith<1.0.0,>=0.1.125 in /usr/local/lib/python3.12/dist-packages (from langchain_community) (0.4.31)\n",
            "Requirement already satisfied: httpx-sse<1.0.0,>=0.4.0 in /usr/local/lib/python3.12/dist-packages (from langchain_community) (0.4.1)\n",
            "Requirement already satisfied: numpy>=1.26.2 in /usr/local/lib/python3.12/dist-packages (from langchain_community) (2.0.2)\n",
            "Requirement already satisfied: aiohappyeyeballs>=2.5.0 in /usr/local/lib/python3.12/dist-packages (from aiohttp<4.0.0,>=3.8.3->langchain_community) (2.6.1)\n",
            "Requirement already satisfied: aiosignal>=1.4.0 in /usr/local/lib/python3.12/dist-packages (from aiohttp<4.0.0,>=3.8.3->langchain_community) (1.4.0)\n",
            "Requirement already satisfied: attrs>=17.3.0 in /usr/local/lib/python3.12/dist-packages (from aiohttp<4.0.0,>=3.8.3->langchain_community) (25.3.0)\n",
            "Requirement already satisfied: frozenlist>=1.1.1 in /usr/local/lib/python3.12/dist-packages (from aiohttp<4.0.0,>=3.8.3->langchain_community) (1.7.0)\n",
            "Requirement already satisfied: multidict<7.0,>=4.5 in /usr/local/lib/python3.12/dist-packages (from aiohttp<4.0.0,>=3.8.3->langchain_community) (6.6.4)\n",
            "Requirement already satisfied: propcache>=0.2.0 in /usr/local/lib/python3.12/dist-packages (from aiohttp<4.0.0,>=3.8.3->langchain_community) (0.3.2)\n",
            "Requirement already satisfied: yarl<2.0,>=1.17.0 in /usr/local/lib/python3.12/dist-packages (from aiohttp<4.0.0,>=3.8.3->langchain_community) (1.20.1)\n",
            "Collecting marshmallow<4.0.0,>=3.18.0 (from dataclasses-json<0.7.0,>=0.6.7->langchain_community)\n",
            "  Downloading marshmallow-3.26.1-py3-none-any.whl.metadata (7.3 kB)\n",
            "Collecting typing-inspect<1,>=0.4.0 (from dataclasses-json<0.7.0,>=0.6.7->langchain_community)\n",
            "  Downloading typing_inspect-0.9.0-py3-none-any.whl.metadata (1.5 kB)\n",
            "Requirement already satisfied: anyio in /usr/local/lib/python3.12/dist-packages (from httpx>=0.28.1->httpx[brotli,http2,socks]>=0.28.1->ddgs) (4.11.0)\n",
            "Requirement already satisfied: certifi in /usr/local/lib/python3.12/dist-packages (from httpx>=0.28.1->httpx[brotli,http2,socks]>=0.28.1->ddgs) (2025.8.3)\n",
            "Requirement already satisfied: httpcore==1.* in /usr/local/lib/python3.12/dist-packages (from httpx>=0.28.1->httpx[brotli,http2,socks]>=0.28.1->ddgs) (1.0.9)\n",
            "Requirement already satisfied: idna in /usr/local/lib/python3.12/dist-packages (from httpx>=0.28.1->httpx[brotli,http2,socks]>=0.28.1->ddgs) (3.10)\n",
            "Requirement already satisfied: h11>=0.16 in /usr/local/lib/python3.12/dist-packages (from httpcore==1.*->httpx>=0.28.1->httpx[brotli,http2,socks]>=0.28.1->ddgs) (0.16.0)\n",
            "Requirement already satisfied: brotli in /usr/local/lib/python3.12/dist-packages (from httpx[brotli,http2,socks]>=0.28.1->ddgs) (1.1.0)\n",
            "Requirement already satisfied: h2<5,>=3 in /usr/local/lib/python3.12/dist-packages (from httpx[brotli,http2,socks]>=0.28.1->ddgs) (4.3.0)\n",
            "Collecting socksio==1.* (from httpx[brotli,http2,socks]>=0.28.1->ddgs)\n",
            "  Downloading socksio-1.0.0-py3-none-any.whl.metadata (6.1 kB)\n",
            "Requirement already satisfied: langchain-text-splitters<1.0.0,>=0.3.9 in /usr/local/lib/python3.12/dist-packages (from langchain<2.0.0,>=0.3.27->langchain_community) (0.3.11)\n",
            "Requirement already satisfied: pydantic<3.0.0,>=2.7.4 in /usr/local/lib/python3.12/dist-packages (from langchain<2.0.0,>=0.3.27->langchain_community) (2.11.9)\n",
            "Requirement already satisfied: jsonpatch<2.0.0,>=1.33.0 in /usr/local/lib/python3.12/dist-packages (from langchain-core<2.0.0,>=0.3.78->langchain_community) (1.33)\n",
            "Requirement already satisfied: typing-extensions<5.0.0,>=4.7.0 in /usr/local/lib/python3.12/dist-packages (from langchain-core<2.0.0,>=0.3.78->langchain_community) (4.15.0)\n",
            "Requirement already satisfied: packaging<26.0.0,>=23.2.0 in /usr/local/lib/python3.12/dist-packages (from langchain-core<2.0.0,>=0.3.78->langchain_community) (25.0)\n",
            "Requirement already satisfied: orjson>=3.9.14 in /usr/local/lib/python3.12/dist-packages (from langsmith<1.0.0,>=0.1.125->langchain_community) (3.11.3)\n",
            "Requirement already satisfied: requests-toolbelt>=1.0.0 in /usr/local/lib/python3.12/dist-packages (from langsmith<1.0.0,>=0.1.125->langchain_community) (1.0.0)\n",
            "Requirement already satisfied: zstandard>=0.23.0 in /usr/local/lib/python3.12/dist-packages (from langsmith<1.0.0,>=0.1.125->langchain_community) (0.25.0)\n",
            "Requirement already satisfied: python-dotenv>=0.21.0 in /usr/local/lib/python3.12/dist-packages (from pydantic-settings<3.0.0,>=2.10.1->langchain_community) (1.1.1)\n",
            "Requirement already satisfied: typing-inspection>=0.4.0 in /usr/local/lib/python3.12/dist-packages (from pydantic-settings<3.0.0,>=2.10.1->langchain_community) (0.4.2)\n",
            "Requirement already satisfied: charset_normalizer<4,>=2 in /usr/local/lib/python3.12/dist-packages (from requests<3.0.0,>=2.32.5->langchain_community) (3.4.3)\n",
            "Requirement already satisfied: urllib3<3,>=1.21.1 in /usr/local/lib/python3.12/dist-packages (from requests<3.0.0,>=2.32.5->langchain_community) (2.5.0)\n",
            "Requirement already satisfied: greenlet>=1 in /usr/local/lib/python3.12/dist-packages (from SQLAlchemy<3.0.0,>=1.4.0->langchain_community) (3.2.4)\n",
            "Requirement already satisfied: hyperframe<7,>=6.1 in /usr/local/lib/python3.12/dist-packages (from h2<5,>=3->httpx[brotli,http2,socks]>=0.28.1->ddgs) (6.1.0)\n",
            "Requirement already satisfied: hpack<5,>=4.1 in /usr/local/lib/python3.12/dist-packages (from h2<5,>=3->httpx[brotli,http2,socks]>=0.28.1->ddgs) (4.1.0)\n",
            "Requirement already satisfied: jsonpointer>=1.9 in /usr/local/lib/python3.12/dist-packages (from jsonpatch<2.0.0,>=1.33.0->langchain-core<2.0.0,>=0.3.78->langchain_community) (3.0.0)\n",
            "Requirement already satisfied: annotated-types>=0.6.0 in /usr/local/lib/python3.12/dist-packages (from pydantic<3.0.0,>=2.7.4->langchain<2.0.0,>=0.3.27->langchain_community) (0.7.0)\n",
            "Requirement already satisfied: pydantic-core==2.33.2 in /usr/local/lib/python3.12/dist-packages (from pydantic<3.0.0,>=2.7.4->langchain<2.0.0,>=0.3.27->langchain_community) (2.33.2)\n",
            "Collecting mypy-extensions>=0.3.0 (from typing-inspect<1,>=0.4.0->dataclasses-json<0.7.0,>=0.6.7->langchain_community)\n",
            "  Downloading mypy_extensions-1.1.0-py3-none-any.whl.metadata (1.1 kB)\n",
            "Requirement already satisfied: sniffio>=1.1 in /usr/local/lib/python3.12/dist-packages (from anyio->httpx>=0.28.1->httpx[brotli,http2,socks]>=0.28.1->ddgs) (1.3.1)\n",
            "Downloading ddgs-9.6.0-py3-none-any.whl (41 kB)\n",
            "\u001b[2K   \u001b[90m━━━━━━━━━━━━━━━━━━━━━━━━━━━━━━━━━━━━━━━━\u001b[0m \u001b[32m41.6/41.6 kB\u001b[0m \u001b[31m2.5 MB/s\u001b[0m eta \u001b[36m0:00:00\u001b[0m\n",
            "\u001b[?25hDownloading langchain_community-0.3.31-py3-none-any.whl (2.5 MB)\n",
            "\u001b[2K   \u001b[90m━━━━━━━━━━━━━━━━━━━━━━━━━━━━━━━━━━━━━━━━\u001b[0m \u001b[32m2.5/2.5 MB\u001b[0m \u001b[31m28.1 MB/s\u001b[0m eta \u001b[36m0:00:00\u001b[0m\n",
            "\u001b[?25hDownloading dataclasses_json-0.6.7-py3-none-any.whl (28 kB)\n",
            "Downloading socksio-1.0.0-py3-none-any.whl (12 kB)\n",
            "Downloading langchain_core-0.3.78-py3-none-any.whl (449 kB)\n",
            "\u001b[2K   \u001b[90m━━━━━━━━━━━━━━━━━━━━━━━━━━━━━━━━━━━━━━━━\u001b[0m \u001b[32m449.6/449.6 kB\u001b[0m \u001b[31m25.8 MB/s\u001b[0m eta \u001b[36m0:00:00\u001b[0m\n",
            "\u001b[?25hDownloading lxml-6.0.2-cp312-cp312-manylinux_2_26_x86_64.manylinux_2_28_x86_64.whl (5.3 MB)\n",
            "\u001b[2K   \u001b[90m━━━━━━━━━━━━━━━━━━━━━━━━━━━━━━━━━━━━━━━━\u001b[0m \u001b[32m5.3/5.3 MB\u001b[0m \u001b[31m76.1 MB/s\u001b[0m eta \u001b[36m0:00:00\u001b[0m\n",
            "\u001b[?25hDownloading primp-0.15.0-cp38-abi3-manylinux_2_17_x86_64.manylinux2014_x86_64.whl (3.3 MB)\n",
            "\u001b[2K   \u001b[90m━━━━━━━━━━━━━━━━━━━━━━━━━━━━━━━━━━━━━━━━\u001b[0m \u001b[32m3.3/3.3 MB\u001b[0m \u001b[31m54.7 MB/s\u001b[0m eta \u001b[36m0:00:00\u001b[0m\n",
            "\u001b[?25hDownloading requests-2.32.5-py3-none-any.whl (64 kB)\n",
            "\u001b[2K   \u001b[90m━━━━━━━━━━━━━━━━━━━━━━━━━━━━━━━━━━━━━━━━\u001b[0m \u001b[32m64.7/64.7 kB\u001b[0m \u001b[31m5.2 MB/s\u001b[0m eta \u001b[36m0:00:00\u001b[0m\n",
            "\u001b[?25hDownloading marshmallow-3.26.1-py3-none-any.whl (50 kB)\n",
            "\u001b[2K   \u001b[90m━━━━━━━━━━━━━━━━━━━━━━━━━━━━━━━━━━━━━━━━\u001b[0m \u001b[32m50.9/50.9 kB\u001b[0m \u001b[31m3.3 MB/s\u001b[0m eta \u001b[36m0:00:00\u001b[0m\n",
            "\u001b[?25hDownloading typing_inspect-0.9.0-py3-none-any.whl (8.8 kB)\n",
            "Downloading mypy_extensions-1.1.0-py3-none-any.whl (5.0 kB)\n",
            "Installing collected packages: socksio, requests, primp, mypy-extensions, marshmallow, lxml, typing-inspect, dataclasses-json, langchain-core, ddgs, langchain_community\n",
            "  Attempting uninstall: requests\n",
            "    Found existing installation: requests 2.32.4\n",
            "    Uninstalling requests-2.32.4:\n",
            "      Successfully uninstalled requests-2.32.4\n",
            "  Attempting uninstall: lxml\n",
            "    Found existing installation: lxml 5.4.0\n",
            "    Uninstalling lxml-5.4.0:\n",
            "      Successfully uninstalled lxml-5.4.0\n",
            "  Attempting uninstall: langchain-core\n",
            "    Found existing installation: langchain-core 0.3.77\n",
            "    Uninstalling langchain-core-0.3.77:\n",
            "      Successfully uninstalled langchain-core-0.3.77\n",
            "\u001b[31mERROR: pip's dependency resolver does not currently take into account all the packages that are installed. This behaviour is the source of the following dependency conflicts.\n",
            "google-colab 1.0.0 requires requests==2.32.4, but you have requests 2.32.5 which is incompatible.\u001b[0m\u001b[31m\n",
            "\u001b[0mSuccessfully installed dataclasses-json-0.6.7 ddgs-9.6.0 langchain-core-0.3.78 langchain_community-0.3.31 lxml-6.0.2 marshmallow-3.26.1 mypy-extensions-1.1.0 primp-0.15.0 requests-2.32.5 socksio-1.0.0 typing-inspect-0.9.0\n"
          ]
        }
      ],
      "source": [
        "!pip install ddgs langchain_community"
      ]
    },
    {
      "cell_type": "code",
      "source": [
        "from langchain.tools import DuckDuckGoSearchRun\n",
        "\n",
        "ddg_search = DuckDuckGoSearchRun()\n",
        "ddg_search.run('2025년 한국의 대통령')"
      ],
      "metadata": {
        "colab": {
          "base_uri": "https://localhost:8080/",
          "height": 145
        },
        "id": "eEz-DjGmDA2W",
        "outputId": "dd27b1d3-d8b5-4375-f25c-0c490a8c6733"
      },
      "execution_count": null,
      "outputs": [
        {
          "output_type": "execute_result",
          "data": {
            "text/plain": [
              "\"[2] 2025 년 6월 3일 더불어민주당 이재명이 역대 최다 득표 수를 기록하면서 대한민국 대통령 으로 당선되었고, [1] 선거관리위원회 당선인 결정안이 확정되고 즉시 대통령 임기를 개시하였다. [3] 투표율은 79.38%로 제15대 대통령 선거 이후 최고치를 기록했다. [1] Jun 4, 2025 · 지금까지 1948년부터 2030년까지 역대 대한민국 대통령과 그 시대의 변화, 그리고 2025 년 이재명 대통령 당선 및 개헌 논의까지 총정리해봤습니다. Jun 3, 2025 · 제21대 대통령 선거 개표 결과 이재명 더불어민주당 후보가 대통령에 당선됐다. Jun 16, 2025 · 대선 결과: 누가 누구에게 투표했는가? 2025 년 대통령 선거에서 진보 성향의 더불어민주당 소속 이재명 후보가 총 득표율 49.42%로 승리했습니다. 주요 경쟁자인 보수 정당 국민의힘 소속 김문수 후보는 41.15%를 기록했습니다. 이번 선거에 선출되는 대통령은 원칙적으로 5년의 임기 동안 업무를 수행한다. 대통령 궐위로 인한 선거는 공직선거법상 '보궐선거'라고 규정하지는 않으나 다른 공직선거의 보궐선거에 적용되는 규정이 거의 대부분 적용된다.\""
            ],
            "application/vnd.google.colaboratory.intrinsic+json": {
              "type": "string"
            }
          },
          "metadata": {},
          "execution_count": 18
        }
      ]
    },
    {
      "cell_type": "code",
      "source": [
        "from langchain.agents import Tool\n",
        "\n",
        "tools = [\n",
        "   Tool(\n",
        "       name=\"DuckDuckGo Search\",\n",
        "       func=ddg_search.run,\n",
        "       description=\"인터넷에서 정보를 추출하는 웹 검색 도구.\",\n",
        "   )\n",
        "]"
      ],
      "metadata": {
        "id": "IYnWTX1DDD5z"
      },
      "execution_count": null,
      "outputs": []
    },
    {
      "cell_type": "code",
      "source": [
        "!pip install wikipedia\n",
        "\n",
        "from langchain.tools import WikipediaQueryRun\n",
        "from langchain.utilities import WikipediaAPIWrapper\n",
        "\n",
        "wikipedia = WikipediaQueryRun(api_wrapper=WikipediaAPIWrapper())\n",
        "\n",
        "tools.append(\n",
        "   Tool(\n",
        "       name=\"Wikipedia Web Search\",\n",
        "       func=wikipedia.run,\n",
        "       description=\"위키피디아를 검색하는 도구.\",\n",
        "   )\n",
        ")"
      ],
      "metadata": {
        "colab": {
          "base_uri": "https://localhost:8080/"
        },
        "id": "F859hXY-I5o4",
        "outputId": "ade7568e-b68e-49c2-a6a8-a43a6c4dae7c"
      },
      "execution_count": null,
      "outputs": [
        {
          "output_type": "stream",
          "name": "stdout",
          "text": [
            "Requirement already satisfied: wikipedia in /usr/local/lib/python3.12/dist-packages (1.4.0)\n",
            "Requirement already satisfied: beautifulsoup4 in /usr/local/lib/python3.12/dist-packages (from wikipedia) (4.13.5)\n",
            "Requirement already satisfied: requests<3.0.0,>=2.0.0 in /usr/local/lib/python3.12/dist-packages (from wikipedia) (2.32.5)\n",
            "Requirement already satisfied: charset_normalizer<4,>=2 in /usr/local/lib/python3.12/dist-packages (from requests<3.0.0,>=2.0.0->wikipedia) (3.4.3)\n",
            "Requirement already satisfied: idna<4,>=2.5 in /usr/local/lib/python3.12/dist-packages (from requests<3.0.0,>=2.0.0->wikipedia) (3.10)\n",
            "Requirement already satisfied: urllib3<3,>=1.21.1 in /usr/local/lib/python3.12/dist-packages (from requests<3.0.0,>=2.0.0->wikipedia) (2.5.0)\n",
            "Requirement already satisfied: certifi>=2017.4.17 in /usr/local/lib/python3.12/dist-packages (from requests<3.0.0,>=2.0.0->wikipedia) (2025.8.3)\n",
            "Requirement already satisfied: soupsieve>1.2 in /usr/local/lib/python3.12/dist-packages (from beautifulsoup4->wikipedia) (2.8)\n",
            "Requirement already satisfied: typing-extensions>=4.0.0 in /usr/local/lib/python3.12/dist-packages (from beautifulsoup4->wikipedia) (4.15.0)\n"
          ]
        }
      ]
    },
    {
      "cell_type": "code",
      "source": [
        "!pip install langchain_openai\n",
        "\n",
        "from langchain_openai import ChatOpenAI\n",
        "import os\n",
        "\n",
        "os.environ[\"OPENAI_API_KEY\"] = \"여러분이 발급받은 오픈AI 키 값\"\n",
        "\n",
        "llm = ChatOpenAI(\n",
        "    model=\"gpt-4o\",\n",
        "    temperature=0\n",
        ")"
      ],
      "metadata": {
        "colab": {
          "base_uri": "https://localhost:8080/"
        },
        "id": "ZzgNdL-sI6Jw",
        "outputId": "97dba279-5078-4cab-ced3-f0d2b10be1b9"
      },
      "execution_count": null,
      "outputs": [
        {
          "output_type": "stream",
          "name": "stdout",
          "text": [
            "Requirement already satisfied: langchain_openai in /usr/local/lib/python3.12/dist-packages (0.3.35)\n",
            "Requirement already satisfied: langchain-core<1.0.0,>=0.3.78 in /usr/local/lib/python3.12/dist-packages (from langchain_openai) (0.3.78)\n",
            "Requirement already satisfied: openai<3.0.0,>=1.104.2 in /usr/local/lib/python3.12/dist-packages (from langchain_openai) (1.109.1)\n",
            "Requirement already satisfied: tiktoken<1.0.0,>=0.7.0 in /usr/local/lib/python3.12/dist-packages (from langchain_openai) (0.11.0)\n",
            "Requirement already satisfied: langsmith<1.0.0,>=0.3.45 in /usr/local/lib/python3.12/dist-packages (from langchain-core<1.0.0,>=0.3.78->langchain_openai) (0.4.31)\n",
            "Requirement already satisfied: tenacity!=8.4.0,<10.0.0,>=8.1.0 in /usr/local/lib/python3.12/dist-packages (from langchain-core<1.0.0,>=0.3.78->langchain_openai) (8.5.0)\n",
            "Requirement already satisfied: jsonpatch<2.0.0,>=1.33.0 in /usr/local/lib/python3.12/dist-packages (from langchain-core<1.0.0,>=0.3.78->langchain_openai) (1.33)\n",
            "Requirement already satisfied: PyYAML<7.0.0,>=5.3.0 in /usr/local/lib/python3.12/dist-packages (from langchain-core<1.0.0,>=0.3.78->langchain_openai) (6.0.3)\n",
            "Requirement already satisfied: typing-extensions<5.0.0,>=4.7.0 in /usr/local/lib/python3.12/dist-packages (from langchain-core<1.0.0,>=0.3.78->langchain_openai) (4.15.0)\n",
            "Requirement already satisfied: packaging<26.0.0,>=23.2.0 in /usr/local/lib/python3.12/dist-packages (from langchain-core<1.0.0,>=0.3.78->langchain_openai) (25.0)\n",
            "Requirement already satisfied: pydantic<3.0.0,>=2.7.4 in /usr/local/lib/python3.12/dist-packages (from langchain-core<1.0.0,>=0.3.78->langchain_openai) (2.11.9)\n",
            "Requirement already satisfied: anyio<5,>=3.5.0 in /usr/local/lib/python3.12/dist-packages (from openai<3.0.0,>=1.104.2->langchain_openai) (4.11.0)\n",
            "Requirement already satisfied: distro<2,>=1.7.0 in /usr/local/lib/python3.12/dist-packages (from openai<3.0.0,>=1.104.2->langchain_openai) (1.9.0)\n",
            "Requirement already satisfied: httpx<1,>=0.23.0 in /usr/local/lib/python3.12/dist-packages (from openai<3.0.0,>=1.104.2->langchain_openai) (0.28.1)\n",
            "Requirement already satisfied: jiter<1,>=0.4.0 in /usr/local/lib/python3.12/dist-packages (from openai<3.0.0,>=1.104.2->langchain_openai) (0.11.0)\n",
            "Requirement already satisfied: sniffio in /usr/local/lib/python3.12/dist-packages (from openai<3.0.0,>=1.104.2->langchain_openai) (1.3.1)\n",
            "Requirement already satisfied: tqdm>4 in /usr/local/lib/python3.12/dist-packages (from openai<3.0.0,>=1.104.2->langchain_openai) (4.67.1)\n",
            "Requirement already satisfied: regex>=2022.1.18 in /usr/local/lib/python3.12/dist-packages (from tiktoken<1.0.0,>=0.7.0->langchain_openai) (2024.11.6)\n",
            "Requirement already satisfied: requests>=2.26.0 in /usr/local/lib/python3.12/dist-packages (from tiktoken<1.0.0,>=0.7.0->langchain_openai) (2.32.5)\n",
            "Requirement already satisfied: idna>=2.8 in /usr/local/lib/python3.12/dist-packages (from anyio<5,>=3.5.0->openai<3.0.0,>=1.104.2->langchain_openai) (3.10)\n",
            "Requirement already satisfied: certifi in /usr/local/lib/python3.12/dist-packages (from httpx<1,>=0.23.0->openai<3.0.0,>=1.104.2->langchain_openai) (2025.8.3)\n",
            "Requirement already satisfied: httpcore==1.* in /usr/local/lib/python3.12/dist-packages (from httpx<1,>=0.23.0->openai<3.0.0,>=1.104.2->langchain_openai) (1.0.9)\n",
            "Requirement already satisfied: h11>=0.16 in /usr/local/lib/python3.12/dist-packages (from httpcore==1.*->httpx<1,>=0.23.0->openai<3.0.0,>=1.104.2->langchain_openai) (0.16.0)\n",
            "Requirement already satisfied: jsonpointer>=1.9 in /usr/local/lib/python3.12/dist-packages (from jsonpatch<2.0.0,>=1.33.0->langchain-core<1.0.0,>=0.3.78->langchain_openai) (3.0.0)\n",
            "Requirement already satisfied: orjson>=3.9.14 in /usr/local/lib/python3.12/dist-packages (from langsmith<1.0.0,>=0.3.45->langchain-core<1.0.0,>=0.3.78->langchain_openai) (3.11.3)\n",
            "Requirement already satisfied: requests-toolbelt>=1.0.0 in /usr/local/lib/python3.12/dist-packages (from langsmith<1.0.0,>=0.3.45->langchain-core<1.0.0,>=0.3.78->langchain_openai) (1.0.0)\n",
            "Requirement already satisfied: zstandard>=0.23.0 in /usr/local/lib/python3.12/dist-packages (from langsmith<1.0.0,>=0.3.45->langchain-core<1.0.0,>=0.3.78->langchain_openai) (0.25.0)\n",
            "Requirement already satisfied: annotated-types>=0.6.0 in /usr/local/lib/python3.12/dist-packages (from pydantic<3.0.0,>=2.7.4->langchain-core<1.0.0,>=0.3.78->langchain_openai) (0.7.0)\n",
            "Requirement already satisfied: pydantic-core==2.33.2 in /usr/local/lib/python3.12/dist-packages (from pydantic<3.0.0,>=2.7.4->langchain-core<1.0.0,>=0.3.78->langchain_openai) (2.33.2)\n",
            "Requirement already satisfied: typing-inspection>=0.4.0 in /usr/local/lib/python3.12/dist-packages (from pydantic<3.0.0,>=2.7.4->langchain-core<1.0.0,>=0.3.78->langchain_openai) (0.4.2)\n",
            "Requirement already satisfied: charset_normalizer<4,>=2 in /usr/local/lib/python3.12/dist-packages (from requests>=2.26.0->tiktoken<1.0.0,>=0.7.0->langchain_openai) (3.4.3)\n",
            "Requirement already satisfied: urllib3<3,>=1.21.1 in /usr/local/lib/python3.12/dist-packages (from requests>=2.26.0->tiktoken<1.0.0,>=0.7.0->langchain_openai) (2.5.0)\n"
          ]
        }
      ]
    },
    {
      "cell_type": "code",
      "source": [
        "from langchain.agents import initialize_agent\n",
        "\n",
        "agent = initialize_agent(\n",
        "    tools, llm, agent=\"zero-shot-react-description\",\n",
        "    verbose=True\n",
        ")\n",
        "agent.run('인터넷에서 2025년 한국의 대통령 검색하고 위키피디아에서 링컨 대통령 검색해서 정리해서 알려줘.')"
      ],
      "metadata": {
        "colab": {
          "base_uri": "https://localhost:8080/",
          "height": 894
        },
        "id": "BVoqn3ZHJtIc",
        "outputId": "5da4d017-64d3-4110-a6e0-8ab8855ed6e5"
      },
      "execution_count": null,
      "outputs": [
        {
          "output_type": "stream",
          "name": "stderr",
          "text": [
            "/tmp/ipython-input-3220293506.py:3: LangChainDeprecationWarning: LangChain agents will continue to be supported, but it is recommended for new use cases to be built with LangGraph. LangGraph offers a more flexible and full-featured framework for building agents, including support for tool-calling, persistence of state, and human-in-the-loop workflows. For details, refer to the `LangGraph documentation <https://langchain-ai.github.io/langgraph/>`_ as well as guides for `Migrating from AgentExecutor <https://python.langchain.com/docs/how_to/migrate_agent/>`_ and LangGraph's `Pre-built ReAct agent <https://langchain-ai.github.io/langgraph/how-tos/create-react-agent/>`_.\n",
            "  agent = initialize_agent(\n",
            "/tmp/ipython-input-3220293506.py:7: LangChainDeprecationWarning: The method `Chain.run` was deprecated in langchain 0.1.0 and will be removed in 1.0. Use :meth:`~invoke` instead.\n",
            "  agent.run('인터넷에서 2025년 한국의 대통령 검색하고 위키피디아에서 링컨 대통령 검색해서 정리해서 알려줘')\n"
          ]
        },
        {
          "output_type": "stream",
          "name": "stdout",
          "text": [
            "\n",
            "\n",
            "\u001b[1m> Entering new AgentExecutor chain...\u001b[0m\n",
            "\u001b[32;1m\u001b[1;3mTo answer the question, I need to perform two separate searches: one to find information about the President of South Korea in 2025 using an internet search, and another to find information about President Abraham Lincoln using Wikipedia. I will start with the internet search for the 2025 South Korean President.\n",
            "\n",
            "Action: DuckDuckGo Search\n",
            "Action Input: \"2025 South Korea President\"\u001b[0m\n",
            "Observation: \u001b[36;1m\u001b[1;3mEarly presidential elections were held in South Korea on 3 June 2025 . Democratic Party nominee and former opposition leader Lee Jae Myung defeated the ruling People Power Party nominee Kim Moon-soo and New Reform Party nominee Lee Jun-seok. Sep 17, 2025 · South Korea 's President Lee Jae-Myung shares his plan to kick-start his nation’s economy—and court Donald Trump. Jun 4, 2025 · Lee Jae-myung has officially won the 21st Presidential Election of South Korea , marking a major shift in power just three years after the country’s last political crisis and calls for accountability over the “martial law scandal.” View all View all Jun 3, 2025 · Lee Jae-myung of the center-left Democratic Party won the South Korean presidential election on Wednesday, riding a wave of anger against former President Yoon Suk Yeol and his People Power... Jun 3, 2025 · Opposition leader Lee Jae-myung was sworn in as South Korea ’ s next president on Wednesday following a dramatic snap election six months after the country’s previous leader declared martial... Jun 5, 2025 · Lee Jae-myung, elected South Korea ’ s newest president on Wednesday, immediately pledged to strengthen the nation’s alliance with the United States while pursuing a pragmatic relationship... Who won early presidential elections in South Korea in 2025? Early presidential elections were held in South Korea on 3 June 2025. Democratic Party nominee and former opposition leader Lee Jae Myung defeated the ruling People Power Party nominee Kim Moon-soo and Reform Party nominee Lee Jun-seok. Who won South Korea's presidential election? Here are the latest developments. Lee Jae-myung of the center-left Democratic Party won the South Korean presidential election on Wednesday, riding a wave of anger against former President Yoon Suk Yeol and his People Power Party after months of political turmoil. How will Korea's presidential primary work in 2025? On 12 April 2025 , the Democratic Party of Korea announced that its presidential primary would equally weight between votes by dues-paying members and a public poll conducted by two polling companies that would survey one million people. Who will be South Korea's 14th president? The 61-year-old Lee is expected to be sworn in on Wednesday, becoming the country’s 14th president after defeating Kim Moon-soo of the conservative People Power Party (PPP). The South Korean president serves a single five-year term without the possibility of re-election. How is the president of South Korea elected? The president of South Korea is elected via a single-round plurality voting system . Presidents are limited to a single five-year term, with no possibility of re-election. What happened in South Korea after Lee's election? Following his election as South Korea’s President on June 3, Lee’s staff arrived at their new offices in central Seoul the next morning to find rooms strewn with trash and desks equipped with monitors but bereft of computers, which had all been piled in a corner. It was a struggle to get doors unlocked and find even basic stationery. Jun 3, 2025 · South Korea election results 2025 : Who won, who lost, what’s next? Left-leaning Lee Jae-myung set to become president after conservative Kim Moon-soo concedes defeat. Sep 17, 2025 · South Korea 's President Lee Jae-Myung shares his plan to kick-start his nation’s economy—and court Donald Trump. Jun 4, 2025 · Lee Jae-myung has officially won the 21st Presidential Election of South Korea , marking a major shift in power just three years after the country’s last political crisis and calls for accountability over the “martial law scandal.” Jun 3, 2025 · Lee Jae-myung of the center-left Democratic Party won the South Korean presidential election on Wednesday, riding a wave of anger against former President Yoon Suk Yeol and his People Power... Jun 3, 2025 · Opposition leader Lee Jae-myung was sworn in as South Korea ’ s next president on Wednesday following a dramatic snap election six months after the country’s previous leader declared martial... Jun 5, 2025 · Lee Jae-myung, elected South Korea ’ s newest president on Wednesday, immediately pledged to strengthen the nation’s alliance with the United States while pursuing a pragmatic relationship... Who won early presidential elections in South Korea in 2025? Early presidential elections were held in South Korea on 3 June 2025. Democratic Party nominee and former opposition leader Lee Jae Myung defeated the ruling People Power Party nominee Kim Moon-soo and Reform Party nominee Lee Jun-seok. Who won South Korea's presidential election? Here are the latest developments. Lee Jae-myung of the center-left Democratic Party won the South Korean presidential election on Wednesday, riding a wave of anger against former President Yoon Suk Yeol and his People Power Party after months of political turmoil. How will Korea's presidential primary work in 2025? On 12 April 2025 , the Democratic Party of Korea announced that its presidential primary would equally weight between votes by dues-paying members and a public poll conducted by two polling companies that would survey one million people. Who will be South Korea's 14th president? The 61-year-old Lee is expected to be sworn in on Wednesday, becoming the country’s 14th president after defeating Kim Moon-soo of the conservative People Power Party (PPP). The South Korean president serves a single five-year term without the possibility of re-election. How is the president of South Korea elected? The president of South Korea is elected via a single-round plurality voting system . Presidents are limited to a single five-year term, with no possibility of re-election. What happened in South Korea after Lee's election? Following his election as South Korea’s President on June 3, Lee’s staff arrived at their new offices in central Seoul the next morning to find rooms strewn with trash and desks equipped with monitors but bereft of computers, which had all been piled in a corner. It was a struggle to get doors unlocked and find even basic stationery. Jun 3, 2025 · South Korea election results 2025 : Who won, who lost, what’s next? Left-leaning Lee Jae-myung set to become president after conservative Kim Moon-soo concedes defeat. Jun 3, 2025 · Opposition leader Lee Jae-myung was sworn in as South Korea ’ s next president on Wednesday following a dramatic snap election six months after the country’s previous leader declared martial...\u001b[0m\n",
            "Thought:\u001b[32;1m\u001b[1;3mLee Jae-myung was elected as the President of South Korea in 2025. Now, I will search for information about President Abraham Lincoln on Wikipedia.\n",
            "\n",
            "Action: Wikipedia Web Search\n",
            "Action Input: \"Abraham Lincoln\"\u001b[0m\n",
            "Observation: \u001b[38;5;200m\u001b[1;3mPage: Abraham Lincoln\n",
            "Summary: Abraham Lincoln (February 12, 1809 – April 15, 1865) was the 16th president of the United States, serving from 1861 until his assassination in 1865. He led the United States through the American Civil War, defeating the Confederate States and playing a major role in the abolition of slavery.\n",
            "Lincoln was born into poverty in Kentucky and raised on the frontier. He was self-educated and became a lawyer, Illinois state legislator, and U.S. representative. Angered by the Kansas–Nebraska Act of 1854, which opened the territories to slavery, he became a leader of the new Republican Party. He reached a national audience in the 1858 Senate campaign debates against Stephen A. Douglas. Lincoln won the 1860 presidential election, prompting a majority of slave states to begin to secede and form the Confederate States. A month after Lincoln assumed the presidency, Confederate forces attacked Fort Sumter, starting the Civil War.\n",
            "As a moderate Republican, Lincoln had to navigate conflicting political opinions from contentious factions during the war effort. Lincoln closely supervised the strategy and tactics in the war effort, including the selection of generals, and implemented a naval blockade of Southern ports. He suspended the writ of habeas corpus in April 1861, an action that Chief Justice Roger Taney found unconstitutional in Ex parte Merryman, and he averted war with Britain by defusing the Trent Affair. On January 1, 1863, he issued the Emancipation Proclamation, which declared the slaves in the states \"in rebellion\" to be free. On November 19, 1863, he delivered the Gettysburg Address, which became one of the most famous speeches in American history. He promoted the Thirteenth Amendment to the U.S. Constitution, which, in 1865, abolished chattel slavery. Re-elected in 1864, he sought to heal the war-torn nation through Reconstruction.\n",
            "\n",
            "On April 14, 1865, five days after the Confederate surrender at Appomattox, Lincoln was attending a play at Ford's Theatre in Washington, D.C., when he was fatally shot by Confederate sympathizer John Wilkes Booth. Lincoln is remembered as a martyr and a national hero for his wartime leadership and for his efforts to preserve the Union and abolish slavery. He is often ranked in both popular and scholarly polls as the greatest president in American history.\n",
            "\n",
            "\n",
            "\n",
            "Page: Assassination of Abraham Lincoln\n",
            "Summary: On April 14, 1865, Abraham Lincoln, the 16th president of the United States, was shot by John Wilkes Booth while attending the play Our American Cousin at Ford's Theatre in Washington, D.C. Shot in the head as he watched the play, Lincoln died of his wounds the following day at 7:22 a.m. in the Petersen House across the street from the theater. He was the first U.S. president to be assassinated. His funeral and burial were marked by an extended period of national mourning.\n",
            "Near the end of the American Civil War, Lincoln's assassination was part of a larger political conspiracy intended by Booth to revive the Confederate cause by eliminating the three most important officials of the federal government. Conspirators Lewis Powell and David Herold were assigned to kill Secretary of State William H. Seward, and George Atzerodt was tasked with killing Vice President Andrew Johnson.\n",
            "Beyond Lincoln's death, the plot failed: Seward was only wounded, and Johnson's would-be attacker became drunk instead of killing the vice president. After a dramatic initial escape, Booth was killed at the end of a 12-day chase. Powell, Herold, Atzerodt, and Mary Surratt were hanged for their roles in the conspiracy.\n",
            "\n",
            "\n",
            "\n",
            "Page: USS Abraham Lincoln (CVN-72)\n",
            "Summary: USS Abraham Lincoln (CVN-72) is the fifth Nimitz-class aircraft carrier in the United States Navy. She is the third Navy ship to have been named after the former President Abraham Lincoln. Her home port is NAS North Island, San Diego, California; she is a member of the United States Pacific Fleet. She is administratively responsible to \u001b[0m\n",
            "Thought:\u001b[32;1m\u001b[1;3mI now have the information needed to answer the question.\n",
            "\n",
            "Final Answer: In 2025, Lee Jae-myung was elected as the President of South Korea. He is a member of the Democratic Party and became the country's 14th president after defeating Kim Moon-soo of the People Power Party.\n",
            "\n",
            "Abraham Lincoln was the 16th president of the United States, serving from 1861 until his assassination in 1865. He led the country through the American Civil War and played a significant role in the abolition of slavery. Lincoln issued the Emancipation Proclamation and promoted the Thirteenth Amendment, which abolished slavery. He was assassinated by John Wilkes Booth on April 14, 1865, and is remembered as a national hero for his leadership during the war and efforts to preserve the Union.\u001b[0m\n",
            "\n",
            "\u001b[1m> Finished chain.\u001b[0m\n"
          ]
        },
        {
          "output_type": "execute_result",
          "data": {
            "text/plain": [
              "\"In 2025, Lee Jae-myung was elected as the President of South Korea. He is a member of the Democratic Party and became the country's 14th president after defeating Kim Moon-soo of the People Power Party.\\n\\nAbraham Lincoln was the 16th president of the United States, serving from 1861 until his assassination in 1865. He led the country through the American Civil War and played a significant role in the abolition of slavery. Lincoln issued the Emancipation Proclamation and promoted the Thirteenth Amendment, which abolished slavery. He was assassinated by John Wilkes Booth on April 14, 1865, and is remembered as a national hero for his leadership during the war and efforts to preserve the Union.\""
            ],
            "application/vnd.google.colaboratory.intrinsic+json": {
              "type": "string"
            }
          },
          "metadata": {},
          "execution_count": 22
        }
      ]
    }
  ]
}