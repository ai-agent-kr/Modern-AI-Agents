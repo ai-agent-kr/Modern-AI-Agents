{
  "nbformat": 4,
  "nbformat_minor": 0,
  "metadata": {
    "colab": {
      "provenance": [],
      "gpuType": "T4"
    },
    "kernelspec": {
      "name": "python3",
      "display_name": "Python 3"
    },
    "language_info": {
      "name": "python"
    },
    "accelerator": "GPU"
  },
  "cells": [
    {
      "cell_type": "code",
      "execution_count": null,
      "metadata": {
        "colab": {
          "base_uri": "https://localhost:8080/"
        },
        "id": "fSKxDVyOPN4x",
        "outputId": "797cd1cc-b785-4fd0-e309-28dbc6a21c04"
      },
      "outputs": [
        {
          "output_type": "stream",
          "name": "stdout",
          "text": [
            "Requirement already satisfied: sentence-transformers in /usr/local/lib/python3.12/dist-packages (5.1.1)\n",
            "Requirement already satisfied: pillow in /usr/local/lib/python3.12/dist-packages (11.3.0)\n",
            "Requirement already satisfied: requests in /usr/local/lib/python3.12/dist-packages (2.32.4)\n",
            "Requirement already satisfied: transformers<5.0.0,>=4.41.0 in /usr/local/lib/python3.12/dist-packages (from sentence-transformers) (4.56.2)\n",
            "Requirement already satisfied: tqdm in /usr/local/lib/python3.12/dist-packages (from sentence-transformers) (4.67.1)\n",
            "Requirement already satisfied: torch>=1.11.0 in /usr/local/lib/python3.12/dist-packages (from sentence-transformers) (2.8.0+cu126)\n",
            "Requirement already satisfied: scikit-learn in /usr/local/lib/python3.12/dist-packages (from sentence-transformers) (1.6.1)\n",
            "Requirement already satisfied: scipy in /usr/local/lib/python3.12/dist-packages (from sentence-transformers) (1.16.2)\n",
            "Requirement already satisfied: huggingface-hub>=0.20.0 in /usr/local/lib/python3.12/dist-packages (from sentence-transformers) (0.35.3)\n",
            "Requirement already satisfied: typing_extensions>=4.5.0 in /usr/local/lib/python3.12/dist-packages (from sentence-transformers) (4.15.0)\n",
            "Requirement already satisfied: charset_normalizer<4,>=2 in /usr/local/lib/python3.12/dist-packages (from requests) (3.4.3)\n",
            "Requirement already satisfied: idna<4,>=2.5 in /usr/local/lib/python3.12/dist-packages (from requests) (3.10)\n",
            "Requirement already satisfied: urllib3<3,>=1.21.1 in /usr/local/lib/python3.12/dist-packages (from requests) (2.5.0)\n",
            "Requirement already satisfied: certifi>=2017.4.17 in /usr/local/lib/python3.12/dist-packages (from requests) (2025.8.3)\n",
            "Requirement already satisfied: filelock in /usr/local/lib/python3.12/dist-packages (from huggingface-hub>=0.20.0->sentence-transformers) (3.19.1)\n",
            "Requirement already satisfied: fsspec>=2023.5.0 in /usr/local/lib/python3.12/dist-packages (from huggingface-hub>=0.20.0->sentence-transformers) (2025.3.0)\n",
            "Requirement already satisfied: packaging>=20.9 in /usr/local/lib/python3.12/dist-packages (from huggingface-hub>=0.20.0->sentence-transformers) (25.0)\n",
            "Requirement already satisfied: pyyaml>=5.1 in /usr/local/lib/python3.12/dist-packages (from huggingface-hub>=0.20.0->sentence-transformers) (6.0.3)\n",
            "Requirement already satisfied: hf-xet<2.0.0,>=1.1.3 in /usr/local/lib/python3.12/dist-packages (from huggingface-hub>=0.20.0->sentence-transformers) (1.1.10)\n",
            "Requirement already satisfied: setuptools in /usr/local/lib/python3.12/dist-packages (from torch>=1.11.0->sentence-transformers) (75.2.0)\n",
            "Requirement already satisfied: sympy>=1.13.3 in /usr/local/lib/python3.12/dist-packages (from torch>=1.11.0->sentence-transformers) (1.13.3)\n",
            "Requirement already satisfied: networkx in /usr/local/lib/python3.12/dist-packages (from torch>=1.11.0->sentence-transformers) (3.5)\n",
            "Requirement already satisfied: jinja2 in /usr/local/lib/python3.12/dist-packages (from torch>=1.11.0->sentence-transformers) (3.1.6)\n",
            "Requirement already satisfied: nvidia-cuda-nvrtc-cu12==12.6.77 in /usr/local/lib/python3.12/dist-packages (from torch>=1.11.0->sentence-transformers) (12.6.77)\n",
            "Requirement already satisfied: nvidia-cuda-runtime-cu12==12.6.77 in /usr/local/lib/python3.12/dist-packages (from torch>=1.11.0->sentence-transformers) (12.6.77)\n",
            "Requirement already satisfied: nvidia-cuda-cupti-cu12==12.6.80 in /usr/local/lib/python3.12/dist-packages (from torch>=1.11.0->sentence-transformers) (12.6.80)\n",
            "Requirement already satisfied: nvidia-cudnn-cu12==9.10.2.21 in /usr/local/lib/python3.12/dist-packages (from torch>=1.11.0->sentence-transformers) (9.10.2.21)\n",
            "Requirement already satisfied: nvidia-cublas-cu12==12.6.4.1 in /usr/local/lib/python3.12/dist-packages (from torch>=1.11.0->sentence-transformers) (12.6.4.1)\n",
            "Requirement already satisfied: nvidia-cufft-cu12==11.3.0.4 in /usr/local/lib/python3.12/dist-packages (from torch>=1.11.0->sentence-transformers) (11.3.0.4)\n",
            "Requirement already satisfied: nvidia-curand-cu12==10.3.7.77 in /usr/local/lib/python3.12/dist-packages (from torch>=1.11.0->sentence-transformers) (10.3.7.77)\n",
            "Requirement already satisfied: nvidia-cusolver-cu12==11.7.1.2 in /usr/local/lib/python3.12/dist-packages (from torch>=1.11.0->sentence-transformers) (11.7.1.2)\n",
            "Requirement already satisfied: nvidia-cusparse-cu12==12.5.4.2 in /usr/local/lib/python3.12/dist-packages (from torch>=1.11.0->sentence-transformers) (12.5.4.2)\n",
            "Requirement already satisfied: nvidia-cusparselt-cu12==0.7.1 in /usr/local/lib/python3.12/dist-packages (from torch>=1.11.0->sentence-transformers) (0.7.1)\n",
            "Requirement already satisfied: nvidia-nccl-cu12==2.27.3 in /usr/local/lib/python3.12/dist-packages (from torch>=1.11.0->sentence-transformers) (2.27.3)\n",
            "Requirement already satisfied: nvidia-nvtx-cu12==12.6.77 in /usr/local/lib/python3.12/dist-packages (from torch>=1.11.0->sentence-transformers) (12.6.77)\n",
            "Requirement already satisfied: nvidia-nvjitlink-cu12==12.6.85 in /usr/local/lib/python3.12/dist-packages (from torch>=1.11.0->sentence-transformers) (12.6.85)\n",
            "Requirement already satisfied: nvidia-cufile-cu12==1.11.1.6 in /usr/local/lib/python3.12/dist-packages (from torch>=1.11.0->sentence-transformers) (1.11.1.6)\n",
            "Requirement already satisfied: triton==3.4.0 in /usr/local/lib/python3.12/dist-packages (from torch>=1.11.0->sentence-transformers) (3.4.0)\n",
            "Requirement already satisfied: numpy>=1.17 in /usr/local/lib/python3.12/dist-packages (from transformers<5.0.0,>=4.41.0->sentence-transformers) (2.0.2)\n",
            "Requirement already satisfied: regex!=2019.12.17 in /usr/local/lib/python3.12/dist-packages (from transformers<5.0.0,>=4.41.0->sentence-transformers) (2024.11.6)\n",
            "Requirement already satisfied: tokenizers<=0.23.0,>=0.22.0 in /usr/local/lib/python3.12/dist-packages (from transformers<5.0.0,>=4.41.0->sentence-transformers) (0.22.1)\n",
            "Requirement already satisfied: safetensors>=0.4.3 in /usr/local/lib/python3.12/dist-packages (from transformers<5.0.0,>=4.41.0->sentence-transformers) (0.6.2)\n",
            "Requirement already satisfied: joblib>=1.2.0 in /usr/local/lib/python3.12/dist-packages (from scikit-learn->sentence-transformers) (1.5.2)\n",
            "Requirement already satisfied: threadpoolctl>=3.1.0 in /usr/local/lib/python3.12/dist-packages (from scikit-learn->sentence-transformers) (3.6.0)\n",
            "Requirement already satisfied: mpmath<1.4,>=1.1.0 in /usr/local/lib/python3.12/dist-packages (from sympy>=1.13.3->torch>=1.11.0->sentence-transformers) (1.3.0)\n",
            "Requirement already satisfied: MarkupSafe>=2.0 in /usr/local/lib/python3.12/dist-packages (from jinja2->torch>=1.11.0->sentence-transformers) (3.0.3)\n"
          ]
        }
      ],
      "source": [
        "!pip install sentence-transformers pillow requests"
      ]
    },
    {
      "cell_type": "code",
      "source": [
        "# \ub77c\uc774\ube0c\ub7ec\ub9ac import\n",
        "from sentence_transformers import SentenceTransformer, util\n",
        "from PIL import Image\n",
        "import requests\n",
        "from io import BytesIO\n",
        "import torch"
      ],
      "metadata": {
        "id": "qHZWcev2PPYu"
      },
      "execution_count": null,
      "outputs": []
    },
    {
      "cell_type": "code",
      "source": [
        "# CLIP \ubaa8\ub378 \ub85c\ub4dc\n",
        "model = SentenceTransformer('clip-ViT-B-32')"
      ],
      "metadata": {
        "colab": {
          "base_uri": "https://localhost:8080/",
          "height": 517,
          "referenced_widgets": [
            "71f79f77bcf7406ebc46f2d10c67f4d8",
            "1b326eb8c3b44c65a872870debfbe412",
            "18d8892bb6eb4b49999ba9a98a0eadc9",
            "7493ba7e148642debb478e8992fe1f3e",
            "2d676de8890d48aa88bce3e689c11260",
            "fb8f0b7682f8406eb6d32d42255882d5",
            "995398136834408794d3463c89feba8f",
            "63df45d5fff440d6a0b8a8968e14c91f",
            "91c5c374f97c44bfae32bd9b0ecdc323",
            "507d91dc15a94661bae6a207dbac3ad0",
            "adad5284d1034a8a9121e423fba031ab",
            "90c2e1c6dccb485284fd02934ff66273",
            "23376ddfd3a248d582da77bbb9a07471",
            "cf8a58ab3c9942979fccee218043e0b2",
            "295107f01203408bb86b1b60c5c3b359",
            "55647e1802604ca484207bbfb0d0d471",
            "ebb97573eed1491180eae6727764df50",
            "52dc983b3ad046d38ccf025fb8bfc2fe",
            "bb62c61b56e046c1b35aa3c1eee6433c",
            "22d85ad4584148e9bf810756abf9cc7d",
            "9686d8097d7e46a4a92137d19e5be36a",
            "86f1ab6f7dc44147b162fe0c0d704ee9",
            "18228fdf2c7e43ee8f1f4754c957e96d",
            "f18ad71f130b42d78d9e7a96772b4fd6",
            "9d49a8d30baf49e2952270c5270585c3",
            "7e9f55e2f21a44efab9d0c36e68352b7",
            "79a69c651c7849f5b018c0867ebe18a7",
            "1d7ef34f4e704fd98c57105cb7e84483",
            "6b70b5949e9641d5b495b7ef70649301",
            "ca0905e869484f5a9b9eee704aa51740",
            "589d5b67dadf4910b747ab75c788ca1f",
            "343c369043a14613b4e7ad7cb5785b79",
            "c54aae6224234443a0f271b1d2b537f6",
            "d33d10ddc1824fccbfead7056ef9f559",
            "99058a26489d440fbf207962ca7e02bc",
            "c0ac7f339779408cbe7d386390f47954",
            "0f9e5946e0f44b789c83717040454378",
            "ce54bee089014affab7bcf85dcf9ca44",
            "58dae0fb905f435a913c05f45883dc16",
            "06cfcc1686a247958ce58d7f7f31d26d",
            "067f6aa333624cd1ad760d2639fdf4ee",
            "833d5b9242bd49919bec00f143934400",
            "33938b585b8144cb8fa77748a2270756",
            "1827407689c14a3e8ec956a5a044e7bc",
            "3d6b8b94ff1e47f59a3c3947790d65ba",
            "6465871ed9cd4d3592ebbede5bf22885",
            "39859294c0c74f848d6d1db1e01ce7be",
            "ea87783ca59547349171f3f9c01f08b1",
            "febba9f69be644e998f6fd49708b63b3",
            "21af3067fdb94a3a86f8a32d11433ada",
            "68f2fa42271649a8b83c92dc5562f5e2",
            "30e36a834562459d8a6447765502acf8",
            "d9c179a92dc64fcfb0c58506ebb4d30e",
            "25f5136d82fb4d61958376eba04c680c",
            "87c52cbb0a4740cb8d729107e92d68fd",
            "858f92569db442e888024c186bdfbf2a",
            "30116f470eb44ff48feaa797f32104e6",
            "dcab38083ca64a88837c29f5b68b9576",
            "0fd998d33c2d4918adf28c50aa6fc74b",
            "2db13ba88d4b4725bf8e9da58b0ef30e",
            "4be60520cb454236b8205ab1cf99ec1a",
            "5d95ced79e004c03b9801f3bdb6165bd",
            "e26a0a824519493fb8f9579d91b36194",
            "568dda783802425685f94654ff287d6d",
            "4575179d594242d6ae54483713cdb335",
            "a0d9d2f6fdc6433d99683981577bc6f2",
            "46fa1688ddc94ad89f874f270a970dd4",
            "62c862bf04c34f868986ecff5e559252",
            "f357819c38e84c449808dbdf41bd451c",
            "4f8b089036c64579900ef66fb61b3dfb",
            "44e510383fa54d119809bc27b90b9445",
            "f6fe7d5d79ff4383ae4346d953c660dc",
            "cf433ca2f3304f25b966f3bbb071e40b",
            "618da8571fa440dcb396158bc3612a58",
            "27a402343c5f43b9b612d3d15a579ced",
            "363589ff07ac49349e1213755098110c",
            "821800495720491295af1325c055e012",
            "869d04d5df284d1f9d433ebba7513fd6",
            "760c7d6ddb584214a45146eea88da4ec",
            "303c1f24e3b143afa001e01c302aaff1",
            "d905c2542df84b27b12a73859e536d7e",
            "789fb3e0530a411aa99252e7818174b8",
            "804e2c171b7c4693ad46d5575dc00b4d",
            "c25e6b56c80448e99eafdefea41414b6",
            "5d39663ad1fa4e2a882425bcafebb224",
            "e74fdc8fdf45438bb3885809d310556f",
            "f642c274ee7e404ba1a21d105a0e8883",
            "8acdb2298cd941bf8ce936f1df81faab",
            "2f0874b0e31f43579577918942f059b3",
            "3349d16ebe274e8e8c74457304f2a5e3",
            "260d1c14563045a8b350ef33b4432545",
            "cdea691681b64af2a7c5ee2bd2260caa",
            "16464701fdf847eab945ff5066f114ad",
            "1f9aa58e4fbd49469e07b1ffb23ff880",
            "13043f9296234dd6a6202e609f9a4f78",
            "948ec8f4b91745a8946f45167b9143a8",
            "d161c28fcdc444f9bbf32787fac8ad41",
            "8cffd9547ab54f5fbe8f375df9504b38",
            "62bec807aed549369e337c36a9ab30b1",
            "7cc8746102764ee0bd3521d8abfdc2ac",
            "f1abf0dcc1eb4247b5b02c7278b934d8",
            "afe5d02d6492485f8e84c0c043160f73",
            "6c131ac54f1c4b9d8177d1c11d5e3bf3",
            "7fa305ff52c64a18a5cf5e85b6a8b711",
            "32bf1b4c0e5f45209252c29d5a235782",
            "9fe722203d6e4597a05de1a1cc18fc2b",
            "c5d00383389f421f8a03527ff5d97cd8",
            "9231416ba2f0449ebd4c894b54415fa5",
            "6c01c62ccdf4414ab35244f4d4064ca4",
            "d3ee770a54364a4ea3559044475e7e0b",
            "e2f965faf49b492ab4f586830108f157",
            "33e86edabfee474b9fa235bb4b2345c8",
            "e56c7c21bef44d9b960650cf476363c0",
            "7b46c4114f8b45dcb59988b9dc0e2220",
            "fa85e79ae4264602b7370676f68458a3",
            "1bb1d07456ed4e38a20e6faaf7c546f5",
            "0b0a26503dfa422aaa1d1021aafdfd67",
            "76769ee33ac14a808b88fffde1320c62",
            "c9c33b1cd88f4380af0e68550365fa00",
            "ae85c104ddbf4257a5ff8412950b7640",
            "6fbf7acdefe34695b8c46b19cdef2a07"
          ]
        },
        "id": "_h9a1FKYPRSZ",
        "outputId": "b92d6906-0d2f-4511-ac4a-2b5a1201588d"
      },
      "execution_count": null,
      "outputs": [
        {
          "output_type": "stream",
          "name": "stderr",
          "text": [
            "/usr/local/lib/python3.12/dist-packages/huggingface_hub/utils/_auth.py:94: UserWarning: \n",
            "The secret `HF_TOKEN` does not exist in your Colab secrets.\n",
            "To authenticate with the Hugging Face Hub, create a token in your settings tab (https://huggingface.co/settings/tokens), set it as secret in your Google Colab and restart your session.\n",
            "You will be able to reuse this secret in all of your notebooks.\n",
            "Please note that authentication is recommended but still optional to access public models or datasets.\n",
            "  warnings.warn(\n"
          ]
        },
        {
          "output_type": "display_data",
          "data": {
            "text/plain": [
              "modules.json:   0%|          | 0.00/122 [00:00<?, ?B/s]"
            ],
            "application/vnd.jupyter.widget-view+json": {
              "version_major": 2,
              "version_minor": 0,
              "model_id": "71f79f77bcf7406ebc46f2d10c67f4d8"
            }
          },
          "metadata": {}
        },
        {
          "output_type": "display_data",
          "data": {
            "text/plain": [
              "config_sentence_transformers.json:   0%|          | 0.00/116 [00:00<?, ?B/s]"
            ],
            "application/vnd.jupyter.widget-view+json": {
              "version_major": 2,
              "version_minor": 0,
              "model_id": "90c2e1c6dccb485284fd02934ff66273"
            }
          },
          "metadata": {}
        },
        {
          "output_type": "display_data",
          "data": {
            "text/plain": [
              "README.md: 0.00B [00:00, ?B/s]"
            ],
            "application/vnd.jupyter.widget-view+json": {
              "version_major": 2,
              "version_minor": 0,
              "model_id": "18228fdf2c7e43ee8f1f4754c957e96d"
            }
          },
          "metadata": {}
        },
        {
          "output_type": "display_data",
          "data": {
            "text/plain": [
              "special_tokens_map.json:   0%|          | 0.00/389 [00:00<?, ?B/s]"
            ],
            "application/vnd.jupyter.widget-view+json": {
              "version_major": 2,
              "version_minor": 0,
              "model_id": "d33d10ddc1824fccbfead7056ef9f559"
            }
          },
          "metadata": {}
        },
        {
          "output_type": "display_data",
          "data": {
            "text/plain": [
              "preprocessor_config.json:   0%|          | 0.00/316 [00:00<?, ?B/s]"
            ],
            "application/vnd.jupyter.widget-view+json": {
              "version_major": 2,
              "version_minor": 0,
              "model_id": "3d6b8b94ff1e47f59a3c3947790d65ba"
            }
          },
          "metadata": {}
        },
        {
          "output_type": "display_data",
          "data": {
            "text/plain": [
              "tokenizer_config.json:   0%|          | 0.00/604 [00:00<?, ?B/s]"
            ],
            "application/vnd.jupyter.widget-view+json": {
              "version_major": 2,
              "version_minor": 0,
              "model_id": "858f92569db442e888024c186bdfbf2a"
            }
          },
          "metadata": {}
        },
        {
          "output_type": "display_data",
          "data": {
            "text/plain": [
              "merges.txt: 0.00B [00:00, ?B/s]"
            ],
            "application/vnd.jupyter.widget-view+json": {
              "version_major": 2,
              "version_minor": 0,
              "model_id": "46fa1688ddc94ad89f874f270a970dd4"
            }
          },
          "metadata": {}
        },
        {
          "output_type": "display_data",
          "data": {
            "text/plain": [
              "config.json: 0.00B [00:00, ?B/s]"
            ],
            "application/vnd.jupyter.widget-view+json": {
              "version_major": 2,
              "version_minor": 0,
              "model_id": "869d04d5df284d1f9d433ebba7513fd6"
            }
          },
          "metadata": {}
        },
        {
          "output_type": "display_data",
          "data": {
            "text/plain": [
              "vocab.json: 0.00B [00:00, ?B/s]"
            ],
            "application/vnd.jupyter.widget-view+json": {
              "version_major": 2,
              "version_minor": 0,
              "model_id": "2f0874b0e31f43579577918942f059b3"
            }
          },
          "metadata": {}
        },
        {
          "output_type": "display_data",
          "data": {
            "text/plain": [
              "0_CLIPModel/pytorch_model.bin:   0%|          | 0.00/605M [00:00<?, ?B/s]"
            ],
            "application/vnd.jupyter.widget-view+json": {
              "version_major": 2,
              "version_minor": 0,
              "model_id": "7cc8746102764ee0bd3521d8abfdc2ac"
            }
          },
          "metadata": {}
        },
        {
          "output_type": "display_data",
          "data": {
            "text/plain": [
              "0_CLIPModel/model.safetensors:   0%|          | 0.00/605M [00:00<?, ?B/s]"
            ],
            "application/vnd.jupyter.widget-view+json": {
              "version_major": 2,
              "version_minor": 0,
              "model_id": "e2f965faf49b492ab4f586830108f157"
            }
          },
          "metadata": {}
        },
        {
          "output_type": "stream",
          "name": "stderr",
          "text": [
            "Using a slow image processor as `use_fast` is unset and a slow processor was saved with this model. `use_fast=True` will be the default behavior in v4.52, even if the model was saved with a slow processor. This will result in minor differences in outputs. You'll still be able to use a slow processor with `use_fast=False`.\n"
          ]
        }
      ]
    },
    {
      "cell_type": "code",
      "source": [
        "# \uc608\uc2dc \uc774\ubbf8\uc9c0 URL\ub4e4 (\ud14c\uc2a4\ud2b8\uc6a9)\n",
        "image_urls = [\n",
        "    \"https://images.unsplash.com/photo-1574158622682-e40e69881006\",  # \uace0\uc591\uc774\n",
        "    \"https://images.unsplash.com/photo-1552053831-71594a27632d\",  # \uac15\uc544\uc9c0\n",
        "    \"https://images.unsplash.com/photo-1503023345310-bd7c1de61c7d\"   # \uc0ac\ub78c\n",
        "]"
      ],
      "metadata": {
        "id": "MgpwuKHsPT7Y"
      },
      "execution_count": null,
      "outputs": []
    },
    {
      "cell_type": "code",
      "source": [
        "# \uc774\ubbf8\uc9c0 \ub2e4\uc6b4\ub85c\ub4dc \ubc0f \ub85c\ub4dc\n",
        "images = []\n",
        "for url in image_urls:\n",
        "    response = requests.get(url)\n",
        "    img = Image.open(BytesIO(response.content))\n",
        "    images.append(img)"
      ],
      "metadata": {
        "id": "UZDRbUBBPWnp"
      },
      "execution_count": null,
      "outputs": []
    },
    {
      "cell_type": "code",
      "source": [
        "# \uc608\uc2dc \ucea1\uc158\ub4e4\n",
        "captions = [\n",
        "    \"a cute cat\",\n",
        "    \"a playful dog\",\n",
        "    \"a person standing outdoors\"\n",
        "]"
      ],
      "metadata": {
        "id": "SlcryAKSPe8y"
      },
      "execution_count": null,
      "outputs": []
    },
    {
      "cell_type": "code",
      "source": [
        "# \uc774\ubbf8\uc9c0 \uc784\ubca0\ub529 \uc0dd\uc131\n",
        "print(\"\\n\uc774\ubbf8\uc9c0 \uc784\ubca0\ub529 \uc0dd\uc131 \uc911...\")\n",
        "image_embeddings = model.encode(images, convert_to_tensor=True)\n",
        "\n",
        "# \ucea1\uc158 \uc784\ubca0\ub529 \uc0dd\uc131\n",
        "print(\"\\n\ucea1\uc158 \uc784\ubca0\ub529 \uc0dd\uc131 \uc911...\")\n",
        "caption_embeddings = model.encode(captions, convert_to_tensor=True)\n",
        "\n",
        "# \uc720\uc0ac\ub3c4 \ud589\ub82c \uacc4\uc0b0 (\ucf54\uc0ac\uc778 \uc720\uc0ac\ub3c4)\n",
        "print(\"\\n\uc720\uc0ac\ub3c4 \ud589\ub82c \uacc4\uc0b0 \uc911...\")\n",
        "similarity_matrix = util.cos_sim(image_embeddings, caption_embeddings)"
      ],
      "metadata": {
        "colab": {
          "base_uri": "https://localhost:8080/"
        },
        "id": "qStxPlArPg_y",
        "outputId": "8c561abf-886d-4ab7-93ad-f9b4c63c6458"
      },
      "execution_count": null,
      "outputs": [
        {
          "output_type": "stream",
          "name": "stdout",
          "text": [
            "\n",
            "\uc774\ubbf8\uc9c0 \uc784\ubca0\ub529 \uc0dd\uc131 \uc911...\n",
            "\n",
            "\ucea1\uc158 \uc784\ubca0\ub529 \uc0dd\uc131 \uc911...\n",
            "\n",
            "\uc720\uc0ac\ub3c4 \ud589\ub82c \uacc4\uc0b0 \uc911...\n"
          ]
        }
      ]
    },
    {
      "cell_type": "code",
      "source": [
        "# \uc774\ubbf8\uc9c0 \uc774\ub984 \uc815\uc758\n",
        "image_names = [\"\uace0\uc591\uc774 \uc774\ubbf8\uc9c0\", \"\uac15\uc544\uc9c0 \uc774\ubbf8\uc9c0\", \"\uc0ac\ub78c \uc774\ubbf8\uc9c0\"]\n",
        "\n",
        "# \uac01 \uc774\ubbf8\uc9c0\uc5d0 \uac00\uc7a5 \uc798 \ub9de\ub294 \ucea1\uc158 \ucc3e\uae30\n",
        "print(\"=== \ucd5c\uc801 \ub9e4\uce6d \uacb0\uacfc ===\")\n",
        "for i, img_name in enumerate(image_names):\n",
        "    best_match_idx = torch.argmax(similarity_matrix[i]).item()\n",
        "    best_score = similarity_matrix[i][best_match_idx].item()\n",
        "    print(f\"{img_name} \u2192 '{captions[best_match_idx]}' (\uc720\uc0ac\ub3c4: {best_score:.4f})\")"
      ],
      "metadata": {
        "colab": {
          "base_uri": "https://localhost:8080/"
        },
        "id": "nNkyuc66P0Ad",
        "outputId": "d69f6962-a4e4-400c-bfad-ea65d0dcf091"
      },
      "execution_count": null,
      "outputs": [
        {
          "output_type": "stream",
          "name": "stdout",
          "text": [
            "=== \ucd5c\uc801 \ub9e4\uce6d \uacb0\uacfc ===\n",
            "\uace0\uc591\uc774 \uc774\ubbf8\uc9c0 \u2192 'a cute cat' (\uc720\uc0ac\ub3c4: 0.2684)\n",
            "\uac15\uc544\uc9c0 \uc774\ubbf8\uc9c0 \u2192 'a playful dog' (\uc720\uc0ac\ub3c4: 0.2815)\n",
            "\uc0ac\ub78c \uc774\ubbf8\uc9c0 \u2192 'a person standing outdoors' (\uc720\uc0ac\ub3c4: 0.2610)\n"
          ]
        }
      ]
    }
  ]
}