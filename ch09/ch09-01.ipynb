{
  "nbformat": 4,
  "nbformat_minor": 0,
  "metadata": {
    "colab": {
      "provenance": [],
      "gpuType": "T4"
    },
    "kernelspec": {
      "name": "python3",
      "display_name": "Python 3"
    },
    "language_info": {
      "name": "python"
    },
    "accelerator": "GPU"
  },
  "cells": [
    {
      "cell_type": "code",
      "execution_count": null,
      "metadata": {
        "colab": {
          "base_uri": "https://localhost:8080/"
        },
        "id": "1d_QdTey5x10",
        "outputId": "e69dd683-ad50-4e0e-ead0-b1b0ebba73a9"
      },
      "outputs": [
        {
          "output_type": "stream",
          "name": "stdout",
          "text": [
            "\u001b[2K   \u001b[90m\u2501\u2501\u2501\u2501\u2501\u2501\u2501\u2501\u2501\u2501\u2501\u2501\u2501\u2501\u2501\u2501\u2501\u2501\u2501\u2501\u2501\u2501\u2501\u2501\u2501\u2501\u2501\u2501\u2501\u2501\u2501\u2501\u2501\u2501\u2501\u2501\u2501\u2501\u2501\u2501\u001b[0m \u001b[32m60.1/60.1 MB\u001b[0m \u001b[31m12.4 MB/s\u001b[0m eta \u001b[36m0:00:00\u001b[0m\n",
            "\u001b[?25h"
          ]
        }
      ],
      "source": [
        "!pip install -q scikit-learn sentence-transformers transformers torch numpy accelerate bitsandbytes"
      ]
    },
    {
      "cell_type": "code",
      "source": [
        "from typing import List, Dict\n",
        "import numpy as np\n",
        "import torch\n",
        "from sklearn.ensemble import RandomForestRegressor\n",
        "from sentence_transformers import SentenceTransformer\n",
        "from transformers import AutoModelForCausalLM, AutoTokenizer, BitsAndBytesConfig"
      ],
      "metadata": {
        "id": "xn0ZCZmR56jo"
      },
      "execution_count": null,
      "outputs": []
    },
    {
      "cell_type": "code",
      "source": [
        "class WeatherAnalysisAgent:\n",
        "    def __init__(self):\n",
        "        self.model = RandomForestRegressor(n_estimators=100)\n",
        "\n",
        "    def train(self, historical_data: Dict):\n",
        "        X = np.array([[d['month'], d['latitude'], d['longitude']] for d in historical_data])\n",
        "        y = np.array([d['weather_score'] for d in historical_data])\n",
        "        self.model.fit(X, y)\n",
        "\n",
        "    def predict_best_time(self, location: Dict) -> Dict:\n",
        "        predictions = []\n",
        "        for month in range(1, 13):\n",
        "            prediction = self.model.predict([[\n",
        "                month,\n",
        "                location['latitude'],\n",
        "                location['longitude']\n",
        "            ]]).item()\n",
        "            predictions.append({'month': month, 'score': float(prediction)})\n",
        "\n",
        "        return {\n",
        "            'best_months': sorted(predictions, key=lambda x: x['score'], reverse=True)[:3],\n",
        "            'location': location\n",
        "        }"
      ],
      "metadata": {
        "id": "c1of1-Ye568G"
      },
      "execution_count": null,
      "outputs": []
    },
    {
      "cell_type": "code",
      "source": [
        "class HotelRecommenderAgent:\n",
        "    def __init__(self):\n",
        "        self.encoder = SentenceTransformer('all-MiniLM-L6-v2')\n",
        "        self.hotels_db = []\n",
        "        self.hotels_embeddings = None\n",
        "\n",
        "    def add_hotels(self, hotels: List[Dict]):\n",
        "        self.hotels_db = hotels\n",
        "        descriptions = [h['description'] for h in hotels]\n",
        "        self.hotels_embeddings = self.encoder.encode(descriptions)\n",
        "\n",
        "    def find_hotels(self, preferences: str, top_k: int = 5) -> List[Dict]:\n",
        "        pref_embedding = self.encoder.encode([preferences])\n",
        "        similarities = np.dot(self.hotels_embeddings, pref_embedding.T).flatten()\n",
        "        top_indices = similarities.argsort()[-top_k:][::-1]\n",
        "        return [\n",
        "            {**self.hotels_db[i], 'similarity_score': float(similarities[i])}\n",
        "            for i in top_indices\n",
        "        ]"
      ],
      "metadata": {
        "id": "c54fWVp059Up"
      },
      "execution_count": null,
      "outputs": []
    },
    {
      "cell_type": "code",
      "source": [
        "class ItineraryPlannerAgent:\n",
        "    def __init__(self):\n",
        "        print(\"Qwen2.5-3B \ubaa8\ub378 \ub85c\ub529 \uc911...\")\n",
        "\n",
        "        quantization_config = BitsAndBytesConfig(\n",
        "            load_in_4bit=True,\n",
        "            bnb_4bit_compute_dtype=torch.float16,\n",
        "            bnb_4bit_use_double_quant=True,\n",
        "            bnb_4bit_quant_type=\"nf4\"\n",
        "        )\n",
        "\n",
        "        model_name = \"Qwen/Qwen2.5-3B-Instruct\"\n",
        "\n",
        "        self.tokenizer = AutoTokenizer.from_pretrained(model_name)\n",
        "        self.model = AutoModelForCausalLM.from_pretrained(\n",
        "            model_name,\n",
        "            quantization_config=quantization_config,\n",
        "            device_map=\"auto\",\n",
        "            trust_remote_code=True\n",
        "        )\n",
        "\n",
        "        print(\"\ubaa8\ub378 \ub85c\ub529 \uc644\ub8cc!\")\n",
        "\n",
        "    def create_itinerary(self, destination_info: Dict, weather_info: Dict,\n",
        "                         hotel_info: Dict, duration: int) -> Dict:\n",
        "        prompt = self._create_prompt(destination_info, weather_info, hotel_info, duration)\n",
        "\n",
        "        messages = [\n",
        "            {\"role\": \"system\", \"content\": \"\ub2f9\uc2e0\uc740 \uc804\ubb38 \uc5ec\ud589 \ud50c\ub798\ub108\uc785\ub2c8\ub2e4. \uad6c\uccb4\uc801\uc774\uace0 \uc2e4\uc6a9\uc801\uc778 \uc5ec\ud589 \uc77c\uc815\uc744 \uc791\uc131\ud574\uc8fc\uc138\uc694.\"},\n",
        "            {\"role\": \"user\", \"content\": prompt}\n",
        "        ]\n",
        "\n",
        "        text = self.tokenizer.apply_chat_template(\n",
        "            messages,\n",
        "            tokenize=False,\n",
        "            add_generation_prompt=True\n",
        "        )\n",
        "\n",
        "        model_inputs = self.tokenizer([text], return_tensors=\"pt\").to(self.model.device)\n",
        "\n",
        "        generated_ids = self.model.generate(\n",
        "            **model_inputs,\n",
        "            max_new_tokens=800,\n",
        "            temperature=0.7,\n",
        "            top_p=0.9,\n",
        "            do_sample=True\n",
        "        )\n",
        "\n",
        "        generated_ids = [\n",
        "            output_ids[len(input_ids):] for input_ids, output_ids in zip(model_inputs.input_ids, generated_ids)\n",
        "        ]\n",
        "\n",
        "        response = self.tokenizer.batch_decode(generated_ids, skip_special_tokens=True)[0]\n",
        "\n",
        "        return {\n",
        "            'itinerary': response,\n",
        "            'duration': duration,\n",
        "            'destination': destination_info['name']\n",
        "        }\n",
        "\n",
        "    def _create_prompt(self, destination_info: Dict, weather_info: Dict,\n",
        "                       hotel_info: Dict, duration: int) -> str:\n",
        "        return f\"\"\"\ub2e4\uc74c \uc815\ubcf4\ub97c \ubc14\ud0d5\uc73c\ub85c {duration}\uc77c\uac04\uc758 \uc0c1\uc138\ud55c \uc5ec\ud589 \uc77c\uc815\uc744 \uc791\uc131\ud574\uc8fc\uc138\uc694:\n",
        "\n",
        "\ubaa9\uc801\uc9c0: {destination_info['name']}\n",
        "\ucd5c\uc801 \ubc29\ubb38 \uc2dc\uae30: {weather_info['best_months'][0]['month']}\uc6d4\n",
        "\uc219\ubc15: {hotel_info[0]['name']}\n",
        "\uc8fc\uc694 \uad00\uad11\uc9c0: {', '.join(destination_info['attractions'])}\n",
        "\n",
        "\uac01 \ub0a0\uc9dc\ubcc4\ub85c \uc544\uce68, \uc810\uc2ec, \uc800\ub141 \uc77c\uc815\uc744 \ud3ec\ud568\ud558\uc5ec \uad6c\uccb4\uc801\uc73c\ub85c \uc791\uc131\ud574\uc8fc\uc138\uc694.\"\"\""
      ],
      "metadata": {
        "id": "7cXxRwEE5-sb"
      },
      "execution_count": null,
      "outputs": []
    },
    {
      "cell_type": "code",
      "source": [
        "class SummaryAgent:\n",
        "    def __init__(self):\n",
        "        print(\"Qwen2.5-3B \ubaa8\ub378 \ub85c\ub529 \uc911... (SummaryAgent)\")\n",
        "\n",
        "        quantization_config = BitsAndBytesConfig(\n",
        "            load_in_4bit=True,\n",
        "            bnb_4bit_compute_dtype=torch.float16,\n",
        "            bnb_4bit_use_double_quant=True,\n",
        "            bnb_4bit_quant_type=\"nf4\"\n",
        "        )\n",
        "\n",
        "        model_name = \"Qwen/Qwen2.5-3B-Instruct\"\n",
        "\n",
        "        self.tokenizer = AutoTokenizer.from_pretrained(model_name)\n",
        "        self.model = AutoModelForCausalLM.from_pretrained(\n",
        "            model_name,\n",
        "            quantization_config=quantization_config,\n",
        "            device_map=\"auto\",\n",
        "            trust_remote_code=True\n",
        "        )\n",
        "\n",
        "        print(\"\ubaa8\ub378 \ub85c\ub529 \uc644\ub8cc!\")\n",
        "\n",
        "    def calculate_total_price(self, hotel_info: Dict, duration: int) -> float:\n",
        "        hotel_cost = hotel_info[0]['price'] * duration\n",
        "        daily_expenses = 100\n",
        "        return hotel_cost + daily_expenses * duration\n",
        "\n",
        "    def create_email(self, trip_data: Dict, client_name: str) -> Dict:\n",
        "        total_price = self.calculate_total_price(\n",
        "            trip_data['recommended_hotels'],\n",
        "            trip_data['itinerary']['duration']\n",
        "        )\n",
        "\n",
        "        prompt = f\"\"\"\ub2e4\uc74c \uc5ec\ud589 \uacc4\ud68d \uc815\ubcf4\ub97c \ubc14\ud0d5\uc73c\ub85c \uace0\uac1d\uc5d0\uac8c \ubcf4\ub0bc \uc804\ubb38\uc801\uc778 \uc774\uba54\uc77c\uc744 \uc791\uc131\ud574\uc8fc\uc138\uc694:\n",
        "\n",
        "\uace0\uac1d\uba85: {client_name}\n",
        "\ubaa9\uc801\uc9c0: {trip_data['itinerary']['destination']}\n",
        "\uae30\uac04: {trip_data['itinerary']['duration']}\uc77c\n",
        "\ucd5c\uc801 \ubc29\ubb38 \uc2dc\uae30: {trip_data['weather_analysis']['best_months'][0]['month']}\uc6d4\n",
        "\ucd94\ucc9c \ud638\ud154: {trip_data['recommended_hotels'][0]['name']}\n",
        "\uc608\uc0c1 \ucd1d \ube44\uc6a9: ${total_price}\n",
        "\n",
        "\uc5ec\ud589 \uc77c\uc815:\n",
        "{trip_data['itinerary']['itinerary']}\n",
        "\n",
        "\uc815\uc911\ud558\uace0 \uc804\ubb38\uc801\uc778 \ud1a4\uc73c\ub85c \uc791\uc131\ud574\uc8fc\uc138\uc694.\"\"\"\n",
        "\n",
        "        messages = [\n",
        "            {\"role\": \"system\", \"content\": \"\ub2f9\uc2e0\uc740 \uc804\ubb38 \uc5ec\ud589\uc0ac \uc9c1\uc6d0\uc785\ub2c8\ub2e4. \uace0\uac1d\uc5d0\uac8c \ubcf4\ub0bc \uc815\uc911\ud558\uace0 \uc0c1\uc138\ud55c \uc774\uba54\uc77c\uc744 \uc791\uc131\ud574\uc8fc\uc138\uc694.\"},\n",
        "            {\"role\": \"user\", \"content\": prompt}\n",
        "        ]\n",
        "\n",
        "        text = self.tokenizer.apply_chat_template(\n",
        "            messages,\n",
        "            tokenize=False,\n",
        "            add_generation_prompt=True\n",
        "        )\n",
        "\n",
        "        model_inputs = self.tokenizer([text], return_tensors=\"pt\").to(self.model.device)\n",
        "\n",
        "        generated_ids = self.model.generate(\n",
        "            **model_inputs,\n",
        "            max_new_tokens=1000,\n",
        "            temperature=0.7,\n",
        "            top_p=0.9,\n",
        "            do_sample=True\n",
        "        )\n",
        "\n",
        "        generated_ids = [\n",
        "            output_ids[len(input_ids):] for input_ids, output_ids in zip(model_inputs.input_ids, generated_ids)\n",
        "        ]\n",
        "\n",
        "        response = self.tokenizer.batch_decode(generated_ids, skip_special_tokens=True)[0]\n",
        "\n",
        "        return {\n",
        "            'email_content': response,\n",
        "            'total_price': total_price\n",
        "        }"
      ],
      "metadata": {
        "id": "66FtpfZG6R1h"
      },
      "execution_count": null,
      "outputs": []
    },
    {
      "cell_type": "code",
      "source": [
        "class TravelPlanningSystem:\n",
        "    def __init__(self):\n",
        "        self.weather_agent = WeatherAnalysisAgent()\n",
        "        self.hotel_agent = HotelRecommenderAgent()\n",
        "        self.itinerary_agent = ItineraryPlannerAgent()\n",
        "        self.summary_agent = SummaryAgent()\n",
        "\n",
        "    def setup(self, weather_data, hotel_data):\n",
        "        self.weather_agent.train(weather_data)\n",
        "        self.hotel_agent.add_hotels(hotel_data)\n",
        "\n",
        "    def plan_trip(self, destination, preferences, duration, client_name):\n",
        "        weather = self.weather_agent.predict_best_time(destination)\n",
        "        hotels = self.hotel_agent.find_hotels(preferences)\n",
        "        itinerary = self.itinerary_agent.create_itinerary(destination, weather, hotels, duration)\n",
        "        summary = self.summary_agent.create_email({\n",
        "            'weather_analysis': weather,\n",
        "            'recommended_hotels': hotels,\n",
        "            'itinerary': itinerary\n",
        "        }, client_name)\n",
        "        return summary\n",
        "\n",
        "# Sample usage\n",
        "historical_weather_data = [{'month': m, 'latitude': 41.9, 'longitude': 12.5, 'weather_score': 0.5 + 0.05 * m} for m in range(1,13)]\n",
        "hotels_database = [\n",
        "    {'name': 'Grand Hotel', 'description': 'Luxury hotel in city center with spa and restaurant', 'price': 300},\n",
        "    {'name': 'Boutique Resort', 'description': 'Boutique hotel with personalized service', 'price': 250}\n",
        "]\n",
        "destination = {'name': 'Rome', 'latitude': 41.9, 'longitude': 12.5, 'attractions': ['Colosseum', 'Vatican']}\n",
        "preferences = \"Luxury hotel with spa and restaurant\"\n",
        "system = TravelPlanningSystem()\n",
        "system.setup(historical_weather_data, hotels_database)\n",
        "result = system.plan_trip(destination, preferences, 3, \"John Smith\")\n",
        "print(result['email_content'])\n",
        "print(\"Estimated Total Cost: $\", result['total_price'])"
      ],
      "metadata": {
        "colab": {
          "base_uri": "https://localhost:8080/",
          "height": 1000,
          "referenced_widgets": [
            "cc9ed0378092473786680c3b0568ab5b",
            "28b405ca06b840ce8d23817b59b81bf4",
            "f256f470db73462aa05290c2b1f44280",
            "e9c099b7d416420c8eeadba227267560",
            "caf5faf747174e1bb8717b99a1736257",
            "f2d407bfc83247618dddefeb6e1c7d67",
            "80ee530e66044d42b71a9b291e20d7f6",
            "b9809fca69294b279fcf18e2c460c57e",
            "9250eac16e8045b4b6208d762af45dea",
            "c2eac5e0ccc74c1f93c4f8d28fd184ca",
            "b6f40df159444b91bea2f1fcfb84a2b3",
            "ebfa168afcc24966b1acb1da55592bdb",
            "111cc94278fc4503bac4ed4c67f2b1c3",
            "203222402511453fbb2ebe635816c075",
            "c6de2947dfc948f9b6aa21aa9bedbd41",
            "1dce94a7f8af49e896700a04f2e28503",
            "8eb90f4e162646bb9c9c00c2fff1efb8",
            "fd01cea12419403fade26d07e7d59ef7",
            "cffe9c0d460b4582957a81a2430479f4",
            "ac3ecad03e54412e99037670b1f6b290",
            "de5a7b7c847c48ec8fea82ed082d580e",
            "db39c1409c5444f392750f93ac4c9ea9",
            "505ec793a1694db992dfa7185438d846",
            "6d3490132a364f98a0ca6c1c88ba36e7",
            "47c4fb120af14c1398fe521cfece221c",
            "dca66e87b58642eeafa01d3a14756ce1",
            "b5ea33d22c94483bb9ac6393cfd65524",
            "447813447d484178845a7ad69631b8fa",
            "031788efe7c44f37a18c1d9360bf5ab5",
            "43d8271e6b1f4754ae10aeced0be8271",
            "1fcbb68e75e64a6aae8b5a4015448ac2",
            "acf26b3bb1c74e9b9c3c6304ebcf1fe3",
            "733b64a2c48e4969939d49c1c749a920",
            "be5b580580d44a038beabc4ea17b61a1",
            "ab84e3ab3b5a4c109db37bec39e5a461",
            "8bc82bb210d1401481c497ade7dc113c",
            "8db8d1012b3143c597520f5da97071b8",
            "2e254438ce2e4f65b508e11c1b661a9e",
            "23d629ebc895419baf12d25a73a49fb1",
            "70a1036d198b4d8d857308450fea71bf",
            "47567c8530de4465b9260d5635131ec8",
            "6c10dc0887b94222995a7e5542d8047b",
            "a1f892bc1b144b8a9ee602513bb67916",
            "792dd32b471548939dc7b8c94123e8b5",
            "9a1d2944ed63446092e0c634a964c4f1",
            "6a9a6bc8ac7747619bbbac55823fb16c",
            "cc70f7052af9402493bb46be2d120d0c",
            "93419f475a0d4e15b643fea393318b50",
            "d11c2f1ea9214a4d85050e084a6693bb",
            "acb126d168934fa9a8538ed3e4b7932f",
            "4e3e60daee8544a88624423a58247a4a",
            "af55313fc9114b98ac1226d418fa3a2e",
            "c9b0f16d66dd49899a52aaafe91e0c80",
            "81b9590e3a014ee48f3a2d5fa3866c73",
            "09cf2106efbf4a2ea2380983db64186f",
            "09dac39398814e0ab24dfb4021e353ad",
            "11a85861890c4adda3b466b8b1e96a2e",
            "581eb3fe95a0464bbb2eecf119d204ac",
            "8e36f004839541d4a4b0415fe4881b0e",
            "204be1630f5c47979aa1423e493f7349",
            "621a73422fc0473dbdac43ff2c9f2fc1",
            "1b16035982724228ac9049c998bbc138",
            "245cb1e366d24f3a9a0e13270567cd32",
            "b96e8ee3b75f40478f346c5e04c57e12",
            "d89eb83e5664467eb861c0719fb35db6",
            "6aa346e1f5d7469186f5ad7d971553bb",
            "f9a7c73b3dd24d1ca8718caa090e8895",
            "d945c19f62ec43658ed09b6c6196436f",
            "e617fdc5eac54d49b17918e8bf5746dc",
            "1b3b1dd39c7b42ec95c141bd0cbc284c",
            "f5aee06c00d5470891fc8d09972fc2dc",
            "853ab20ba1534106a2a5e0c3252af122",
            "3b4e52295b884117a9ef3446290d7e82",
            "169fc1305de74cc2bd7ac054a770b0f4",
            "f51dffa90eb54f9f881282c5ecd80ca5",
            "da689e01740d48a4a80b48c7cc56e23b",
            "6f1134c6f51b47098e9d740dbfa0b332",
            "b42d8efb07ff4d5bb10132dfa8300954",
            "b599ed626d6c4166b9dc6a966e45457b",
            "14608bbde70e4a34b409b08ded27cfb7",
            "5d9ce42316ad4f969b2c1c37c26ec8d3",
            "a5da4d7f1283446c8ee3108c3e0451df",
            "bdd8199ba08a43d68f6636ccf8824119",
            "a9c5c5c01af3489da2f5c865896ce8ba",
            "39557c49f03d4aab95f1f212a57a03da",
            "90635da4c25848a28615cfa15c3b06c6",
            "d0a4a6be72394afda3ff2c84fb6e01e5",
            "3e47fb0a262e463b9c54113390ff6fa1",
            "83ff97b327044dd586fab3bb9838e7fb",
            "b23f1da392664be2b589246e6daeef72",
            "417fb9aaee9245e0a83a4a4c044670a5",
            "52bac3c3def14c658b7a1d2ac6bff4e6",
            "fa8b070c3fad41b695d05b07ace00528",
            "38840a42dfdc455b84ffe541ecdb1411",
            "456a6948822545dca00310dbd630377e",
            "03a23151ec574a8490098a40f9bb7c42",
            "dc51371acbd546058af7828a5d635902",
            "889829b5238a4e558529da7f15d11a8c",
            "364015e42e91481cacb37f27cc0e6b35",
            "154a6614a5704368bfb6a404223a94f6",
            "46bab420e88849ebb5de7b9785e9e811",
            "449e46da00054758ab92cdf2638f43d7",
            "c89c86f04e174c90bd935811b11702a6",
            "6100015f0d55421daf58903da4cea23b",
            "deb5bd988ab44717acd11185b3951796",
            "912164d37db043fb812366ef7c78ceaa",
            "bd99f9c99750498491acdad4338b122f",
            "abfe24b11c2c422f88518114addec342",
            "a6fc8c1b8887413bb477a1f03c6d4048",
            "e32b634f5e884d8db77b9b39c6a5d708",
            "b2dcd4e4a7a44191af126adf6fa6bf65",
            "94ef24ed8c9c44159c6ffc47e90906c0",
            "095347bfd3734249877ecdc10e88f896",
            "1abca99797154152b2ca67858857df42",
            "03fa6da162cd42c69fe07881ebcb5c6e",
            "f7b5790703bd4b0c93128ea5f3abb4ab",
            "84aad2fdbed74fcba548dbe621e98314",
            "bf9fd99f4e1549c6af0d21f7ebf6c1ed",
            "3718cd8d05e948f6b91f17abc800e40d",
            "46c2161c42cc4f19a15bda5f9d93ce5e",
            "c9d9a467d7514b6e9d76008a172921ec",
            "ac6485f4c2404738813e219af781fa27",
            "ea50fb2940894f8db7413925e771ab5f",
            "f2009f6dd1a9409fbe242495fce1e3d9",
            "bbbc552279c349aab2d275c9d1ce56e5",
            "6317d4d29dbf4dc689709c5bba9424e5",
            "9637054a077541b0b03e13d3e5a93477",
            "c0f83ab419b240809e1234ea0e546f09",
            "fbc4a79c2f944d979a5c92e7a7f28668",
            "762f708401e64d148601dfdd86f59026",
            "017c650669dd411e989dcd0f376f93e5",
            "602baea6be07407daa968f2469f63c34",
            "0b9a26ad3ef6454f84574a9d16e8f0f0",
            "ab2916fe13cd44c9adb83145d5729976",
            "6af901409ffb40cf83c126a9612d7892",
            "7a00f2e5a3d946c6b53603a6a4a82e18",
            "6f47f70731a94dea8b87e32134d082a4",
            "9b2b4acd67114e538a2807b740012c7b",
            "f184fd7f7b4c43f4b445066538d89000",
            "788560e1a0234daca1617d74aa3af6bd",
            "21278560bf1d4a85a2e0177089bcbb00",
            "3dbbba1de54b4decad3f8492746a1330",
            "e2fdade6dd6b49ee928543767d32b660",
            "6e711a6d3b4a45a196135ff34914a132",
            "d78c83a185c74514988998c1f0d99313",
            "2050690e5c6c4a6ab87279eabddecb2b",
            "62e0c8f012ff419cad3b1ac55c24441f",
            "74ace028dbb645468e707a894d97d47d",
            "e598d45e42624d5d90c63834bd70fb83",
            "f7baa05d494045e9b52bebb4e0394431",
            "262d785a1d384dcc918284e3ce64b20d",
            "d244949742ac46cfabf5691c5a843f8f",
            "4e035704a7534785aa810c1b9032d94e",
            "7f08d69ec80745928ac29ad9bc5e27a2",
            "4e1e5b13bc364ea0b4b4134ddf3bc447",
            "2b1f18f9c9c848339a804949438dede4",
            "7926c58e99b94349ab7e5010d30edeb8",
            "1836ba9ecaf04b8f85393437086f072f",
            "cf5bb83a3e534995be3eb17717d66bfe",
            "840fe4ec3f0f4bbcb6f84f856447fed7",
            "9de2f00499ad438db17b41176f8a56da",
            "967a4f32a013487eb4160f52e2bda931",
            "5177b05a4b71430f8e9d61244f0fbd12",
            "1197afe512cf4c879dd08b301ca99f56",
            "d6612e4aa1484a9cb26a1807a9077836",
            "b435a7bae06d48df8da90f03c729592b",
            "d6378117d4a44e88bbb7117e2853b2a3",
            "223fef28396243e6a7d13641592c8c4a",
            "b0727d69be5a474794881c95cb992d75",
            "115061aa2ccb4b9b8c4603acce329bf3",
            "917d07e5733f4ede975646879021cfc8",
            "4a4aeb0ba376416a904fd287cb28a8ff",
            "5678bf59fcf44f2d837f1a95eba8c041",
            "c6c2be98ac11409c9caad589b1313ff0",
            "678b81c807a94afaa71eb37c8694fb3e",
            "45e7c50e1fce4658a53b1b58c08f41b4",
            "2e6d085769e84c87920b3407b0eabb85",
            "6306c704fae94326a61a4e6bb8dabc35",
            "e9092bc46ebf456eb23102f67e91c159",
            "62fd7816c8134da4876f0f2d1a836fe3",
            "85156c5ed05f45e4a7b7ac545014fc19",
            "24d68632f1164b60ad33d06f2245a38f",
            "4126439b21dc415b8b406055261b9174",
            "d86b340727f646dc873169b369a6bc85",
            "f6fa351c583e4b409f43c1135de5b064",
            "7e2cfbabadb34d4da205b928cba8dd89",
            "bb01ea35c5f240de8f7ad9dea38a8b02",
            "6a815a76950e46bc875e365b70267a59",
            "ef91f2e6018f44a5a1dab4ed000d7a09",
            "65931cf7b9274e779071bd105f51338d",
            "8be654a265be4800a3077c73989672e9",
            "978974c8aa34421a8c239e8ab2badc64",
            "ccc2ca2a3ed64dbbb74fe29351f684d8",
            "34af7c6079fc40a5bc3bf558e5b886df",
            "c3d7f826e720422ba2288220b8369e52",
            "a3e7a1d8b9b746a1900592fe164605b3",
            "b6d7100bbbcf4c999c7684655a036d8b",
            "310218e747614b35bd81d1b384423856",
            "5594b2d4f081446a923e90369721dc60",
            "c486446391844e489779067663ddde0a",
            "9d1aae0b58ef408b9fa9988aa5ed169e",
            "e604e23a17d144db94d1f43d5b5a3fad",
            "002405a0082c43f488a0ce7a7cfa943e",
            "948097a249824eb3adeb203ebeb535d2",
            "6b744ed3e0c94719b7803242eafa6e70",
            "d7cc981209e943599f8bd86fb0b75d7f",
            "4b88b9fb7b1f48de93c34858777a5a95",
            "579d7cc3e23948848255d19c3bcacea1",
            "bbd2b39af96c405dbad93fee7b70ac73",
            "89ec5a145d6a4978b80e2e011e7206aa",
            "a8c87109b8854c60a52ee9b8d5e54b7c",
            "b2993293a15441ec871b5eae8d524bb6",
            "10a98053f49e4414ab343c440dc61e48",
            "eff89314945c47ac8da8342a3d994404",
            "51d82c0330fc4b85b5d672d041ea469c",
            "a59002d0874b408ba678e7e17d9e599b",
            "ad7ed3e094b24c1f8100c89c1b9d3490",
            "9eac77b4cc3540bab64260b498ab6707",
            "3849ee16951c4fbb939755f1aada7da7",
            "643393e5552447308a9915a0cf95260f",
            "a9be684cd3724b84a0bd7d987075d7e3",
            "518571384e15440da048a684e67f4a49",
            "2113a2c75e794edfaa6f8a29537cbe0b",
            "27714ed73cac41c49461cf8b9a0a7bf9",
            "9e8fea8e232c4d8d9a0829378fa69a4a",
            "9c790bff353a48af85048a76bea49438",
            "e4cb4a523ecc43dfab33a1ad6299e51a",
            "114a6b0f42454af8b96ab153d231f8a4",
            "6cd86bbdfbb5442e9f99d21da57bc436",
            "a87e55d651d444abb490958386aa6c8e",
            "c26d6f43add140fb82f9e4c2eb036525",
            "a7606e92fc3946eda4051886cbe51e31",
            "218fa7b040ae47d490ac9178fc658d37",
            "4ac27018a980414ab2a762ff78a59bd4",
            "493c008e7b8d4914b3559f83467002a7",
            "c1aa85ffc3c2411fb8f3d4e33c90a210",
            "76845c6f2f534696aa9f7bbaefabf977",
            "93a093eb5fae44eea5e285cff0558aa4",
            "7690cf9cb6bd4726804ef51a4d5da006",
            "f2bd6782fac243eb963bad3962f34dfc",
            "cd72f986b74a48468d1396affbda4adc",
            "647eb599cea6485f8155910a3bdc42b0",
            "3793b7d55a7e4409bb302b367e2418c6",
            "9987b6b7a90b4d1fb070ab69dffc91f3",
            "0ddea8a96a474f9aa1ae564bb837b587",
            "690ab06263da4371893eaf44ce6a3a15",
            "9de9caa692ac4a7c89c3a91545aea1d9",
            "962dc3f3b7bd4452b41d6dece741bd89",
            "6347da54806d4177807e433b3fb45c8f",
            "fd1b4c6d41c34687a160c51c8d895844",
            "a20314d1c1aa458297052338b9eb6aee",
            "495d7d294e2a4450a847b7d72e011485",
            "9ef0facb7cab438e994da00afce0a5a6"
          ]
        },
        "id": "Mk6PchnA6S33",
        "outputId": "6bfca64f-b6fd-454d-9a8f-70bcdfec088e"
      },
      "execution_count": null,
      "outputs": [
        {
          "output_type": "stream",
          "name": "stderr",
          "text": [
            "/usr/local/lib/python3.12/dist-packages/huggingface_hub/utils/_auth.py:94: UserWarning: \n",
            "The secret `HF_TOKEN` does not exist in your Colab secrets.\n",
            "To authenticate with the Hugging Face Hub, create a token in your settings tab (https://huggingface.co/settings/tokens), set it as secret in your Google Colab and restart your session.\n",
            "You will be able to reuse this secret in all of your notebooks.\n",
            "Please note that authentication is recommended but still optional to access public models or datasets.\n",
            "  warnings.warn(\n"
          ]
        },
        {
          "output_type": "display_data",
          "data": {
            "text/plain": [
              "modules.json:   0%|          | 0.00/349 [00:00<?, ?B/s]"
            ],
            "application/vnd.jupyter.widget-view+json": {
              "version_major": 2,
              "version_minor": 0,
              "model_id": "cc9ed0378092473786680c3b0568ab5b"
            }
          },
          "metadata": {}
        },
        {
          "output_type": "display_data",
          "data": {
            "text/plain": [
              "config_sentence_transformers.json:   0%|          | 0.00/116 [00:00<?, ?B/s]"
            ],
            "application/vnd.jupyter.widget-view+json": {
              "version_major": 2,
              "version_minor": 0,
              "model_id": "ebfa168afcc24966b1acb1da55592bdb"
            }
          },
          "metadata": {}
        },
        {
          "output_type": "display_data",
          "data": {
            "text/plain": [
              "README.md: 0.00B [00:00, ?B/s]"
            ],
            "application/vnd.jupyter.widget-view+json": {
              "version_major": 2,
              "version_minor": 0,
              "model_id": "505ec793a1694db992dfa7185438d846"
            }
          },
          "metadata": {}
        },
        {
          "output_type": "display_data",
          "data": {
            "text/plain": [
              "sentence_bert_config.json:   0%|          | 0.00/53.0 [00:00<?, ?B/s]"
            ],
            "application/vnd.jupyter.widget-view+json": {
              "version_major": 2,
              "version_minor": 0,
              "model_id": "be5b580580d44a038beabc4ea17b61a1"
            }
          },
          "metadata": {}
        },
        {
          "output_type": "display_data",
          "data": {
            "text/plain": [
              "config.json:   0%|          | 0.00/612 [00:00<?, ?B/s]"
            ],
            "application/vnd.jupyter.widget-view+json": {
              "version_major": 2,
              "version_minor": 0,
              "model_id": "9a1d2944ed63446092e0c634a964c4f1"
            }
          },
          "metadata": {}
        },
        {
          "output_type": "display_data",
          "data": {
            "text/plain": [
              "model.safetensors:   0%|          | 0.00/90.9M [00:00<?, ?B/s]"
            ],
            "application/vnd.jupyter.widget-view+json": {
              "version_major": 2,
              "version_minor": 0,
              "model_id": "09dac39398814e0ab24dfb4021e353ad"
            }
          },
          "metadata": {}
        },
        {
          "output_type": "display_data",
          "data": {
            "text/plain": [
              "tokenizer_config.json:   0%|          | 0.00/350 [00:00<?, ?B/s]"
            ],
            "application/vnd.jupyter.widget-view+json": {
              "version_major": 2,
              "version_minor": 0,
              "model_id": "f9a7c73b3dd24d1ca8718caa090e8895"
            }
          },
          "metadata": {}
        },
        {
          "output_type": "display_data",
          "data": {
            "text/plain": [
              "vocab.txt: 0.00B [00:00, ?B/s]"
            ],
            "application/vnd.jupyter.widget-view+json": {
              "version_major": 2,
              "version_minor": 0,
              "model_id": "b42d8efb07ff4d5bb10132dfa8300954"
            }
          },
          "metadata": {}
        },
        {
          "output_type": "display_data",
          "data": {
            "text/plain": [
              "tokenizer.json: 0.00B [00:00, ?B/s]"
            ],
            "application/vnd.jupyter.widget-view+json": {
              "version_major": 2,
              "version_minor": 0,
              "model_id": "83ff97b327044dd586fab3bb9838e7fb"
            }
          },
          "metadata": {}
        },
        {
          "output_type": "display_data",
          "data": {
            "text/plain": [
              "special_tokens_map.json:   0%|          | 0.00/112 [00:00<?, ?B/s]"
            ],
            "application/vnd.jupyter.widget-view+json": {
              "version_major": 2,
              "version_minor": 0,
              "model_id": "154a6614a5704368bfb6a404223a94f6"
            }
          },
          "metadata": {}
        },
        {
          "output_type": "display_data",
          "data": {
            "text/plain": [
              "config.json:   0%|          | 0.00/190 [00:00<?, ?B/s]"
            ],
            "application/vnd.jupyter.widget-view+json": {
              "version_major": 2,
              "version_minor": 0,
              "model_id": "b2dcd4e4a7a44191af126adf6fa6bf65"
            }
          },
          "metadata": {}
        },
        {
          "output_type": "stream",
          "name": "stdout",
          "text": [
            "Qwen2.5-3B \ubaa8\ub378 \ub85c\ub529 \uc911...\n"
          ]
        },
        {
          "output_type": "display_data",
          "data": {
            "text/plain": [
              "tokenizer_config.json: 0.00B [00:00, ?B/s]"
            ],
            "application/vnd.jupyter.widget-view+json": {
              "version_major": 2,
              "version_minor": 0,
              "model_id": "ac6485f4c2404738813e219af781fa27"
            }
          },
          "metadata": {}
        },
        {
          "output_type": "display_data",
          "data": {
            "text/plain": [
              "vocab.json: 0.00B [00:00, ?B/s]"
            ],
            "application/vnd.jupyter.widget-view+json": {
              "version_major": 2,
              "version_minor": 0,
              "model_id": "0b9a26ad3ef6454f84574a9d16e8f0f0"
            }
          },
          "metadata": {}
        },
        {
          "output_type": "display_data",
          "data": {
            "text/plain": [
              "merges.txt: 0.00B [00:00, ?B/s]"
            ],
            "application/vnd.jupyter.widget-view+json": {
              "version_major": 2,
              "version_minor": 0,
              "model_id": "6e711a6d3b4a45a196135ff34914a132"
            }
          },
          "metadata": {}
        },
        {
          "output_type": "display_data",
          "data": {
            "text/plain": [
              "tokenizer.json: 0.00B [00:00, ?B/s]"
            ],
            "application/vnd.jupyter.widget-view+json": {
              "version_major": 2,
              "version_minor": 0,
              "model_id": "4e1e5b13bc364ea0b4b4134ddf3bc447"
            }
          },
          "metadata": {}
        },
        {
          "output_type": "display_data",
          "data": {
            "text/plain": [
              "config.json:   0%|          | 0.00/661 [00:00<?, ?B/s]"
            ],
            "application/vnd.jupyter.widget-view+json": {
              "version_major": 2,
              "version_minor": 0,
              "model_id": "b435a7bae06d48df8da90f03c729592b"
            }
          },
          "metadata": {}
        },
        {
          "output_type": "display_data",
          "data": {
            "text/plain": [
              "model.safetensors.index.json: 0.00B [00:00, ?B/s]"
            ],
            "application/vnd.jupyter.widget-view+json": {
              "version_major": 2,
              "version_minor": 0,
              "model_id": "2e6d085769e84c87920b3407b0eabb85"
            }
          },
          "metadata": {}
        },
        {
          "output_type": "display_data",
          "data": {
            "text/plain": [
              "Fetching 2 files:   0%|          | 0/2 [00:00<?, ?it/s]"
            ],
            "application/vnd.jupyter.widget-view+json": {
              "version_major": 2,
              "version_minor": 0,
              "model_id": "6a815a76950e46bc875e365b70267a59"
            }
          },
          "metadata": {}
        },
        {
          "output_type": "display_data",
          "data": {
            "text/plain": [
              "model-00001-of-00002.safetensors:   0%|          | 0.00/3.97G [00:00<?, ?B/s]"
            ],
            "application/vnd.jupyter.widget-view+json": {
              "version_major": 2,
              "version_minor": 0,
              "model_id": "5594b2d4f081446a923e90369721dc60"
            }
          },
          "metadata": {}
        },
        {
          "output_type": "display_data",
          "data": {
            "text/plain": [
              "model-00002-of-00002.safetensors:   0%|          | 0.00/2.20G [00:00<?, ?B/s]"
            ],
            "application/vnd.jupyter.widget-view+json": {
              "version_major": 2,
              "version_minor": 0,
              "model_id": "89ec5a145d6a4978b80e2e011e7206aa"
            }
          },
          "metadata": {}
        },
        {
          "output_type": "display_data",
          "data": {
            "text/plain": [
              "Loading checkpoint shards:   0%|          | 0/2 [00:00<?, ?it/s]"
            ],
            "application/vnd.jupyter.widget-view+json": {
              "version_major": 2,
              "version_minor": 0,
              "model_id": "a9be684cd3724b84a0bd7d987075d7e3"
            }
          },
          "metadata": {}
        },
        {
          "output_type": "display_data",
          "data": {
            "text/plain": [
              "generation_config.json:   0%|          | 0.00/242 [00:00<?, ?B/s]"
            ],
            "application/vnd.jupyter.widget-view+json": {
              "version_major": 2,
              "version_minor": 0,
              "model_id": "a7606e92fc3946eda4051886cbe51e31"
            }
          },
          "metadata": {}
        },
        {
          "output_type": "stream",
          "name": "stdout",
          "text": [
            "\ubaa8\ub378 \ub85c\ub529 \uc644\ub8cc!\n",
            "Qwen2.5-3B \ubaa8\ub378 \ub85c\ub529 \uc911... (SummaryAgent)\n"
          ]
        },
        {
          "output_type": "display_data",
          "data": {
            "text/plain": [
              "Loading checkpoint shards:   0%|          | 0/2 [00:00<?, ?it/s]"
            ],
            "application/vnd.jupyter.widget-view+json": {
              "version_major": 2,
              "version_minor": 0,
              "model_id": "3793b7d55a7e4409bb302b367e2418c6"
            }
          },
          "metadata": {}
        },
        {
          "output_type": "stream",
          "name": "stdout",
          "text": [
            "\ubaa8\ub378 \ub85c\ub529 \uc644\ub8cc!\n",
            "\uc548\ub155\ud558\uc138\uc694, \uc874 \uc2a4\ubbf8\uc2a4 \uc528,\n",
            "\n",
            "\uccab\ub208\uc5d0 \ubc18\ud588\ub2f5\ub2c8\ub2e4, \ub2f9\uc2e0\uc774 \uc81c\uc548\ud558\uc2e0 Rome \uc5ec\ud589 \uc77c\uc815! \uc800\ud76c\uc640 \ud568\uaed8\ud558\ub294 \uc774\ubc88 \uc5ec\ud589\uc744 \uae30\ub300\ud558\uba70, \uadf8 \ub3d9\uc548 \ud544\uc694\ud55c \uc815\ubcf4\ub098 \uc870\uc5b8\uc744 \ub4dc\ub9ac\uae30 \uc704\ud574 \uc774 \uba54\uc77c\uc744 \ubcf4\ub0b4\uc654\uc2b5\ub2c8\ub2e4.\n",
            "\n",
            "Rome\uc5d0\uc11c\uc758 3\uc77c\uac04\uc758 \uc5ec\ud589\uc744 \uc2dc\uc791\ud558\ub294 \ub0a0, \ub2f9\uc2e0\uc758 \uccab \ubc29\ubb38\uc740 \ubc14\ub85c Grand Hotel\uc5d0\uc11c \uc774\ub8e8\uc5b4\uc9c8 \uac83\uc785\ub2c8\ub2e4. \uadf8\uacf3\uc5d0\uc11c \uc544\uce68 \uc2dd\uc0ac\ub97c \uc990\uae38 \uc218 \uc788\uc73c\uba70, \ud3b8\uc548\ud558\uac8c \uc7a0\ub4e4 \uc218 \uc788\uc744 \uac70\ub77c \ubbff\uc2b5\ub2c8\ub2e4. \uadf8\ub9ac\uace0 \uadf8\ub0a0 \uc624\ud6c4\ub294 Roman Forum\uacfc \uc0ac\uc6d0\uc744 \ubc29\ubb38\ud558\ub294 \uac83\uc73c\ub85c, \ub85c\ub9c8\uc758 \uc5ed\uc0ac\ub97c \ubc30\uc6b8 \uc218 \uc788\uc744 \uac83\uc785\ub2c8\ub2e4. \uc800\ub141\uc5d0\ub294 Piazza Navona\uc5d0\uc11c \ud3b8\uc548\ud558\uac8c \uc26c\uba74\uc11c \uac10\uc0c1\ud574\ubcf4\uc2e4 \uc218 \uc788\uaca0\uc8e0. \n",
            "\n",
            "\ub450 \ubc88\uc9f8 \ub0a0\uc740 Vatican City\ub97c \ubc29\ubb38\ud558\uba70, \uadf8\uacf3\uc5d0\uc11c Raphael Rooms, Sistine Chapel, \uadf8\ub9ac\uace0 Gallery of Maps\ub97c \ubc29\ubb38\ud558\uc2e4 \uc218 \uc788\uc2b5\ub2c8\ub2e4. \uc774 \uacf3\uc5d0\uc11c\uc758 \uc2dc\uac04\uc740 \ub9e4\uc6b0 \ud2b9\ubcc4\ud558\uba70, \uc774 \uacf3\uc744 \ube60\uc838\uc11c\ub294 \uc548 \ub418\ub294 \uba85\uc18c \uc911 \ud558\ub098\ub77c\uace0 \uc0dd\uac01\ud569\ub2c8\ub2e4. \uadf8\ub9ac\uace0 \uc774\ub0a0 \ubc24\uc5d0\ub294 Trastevere\ub77c\ub294 \uc544\ub984\ub2e4\uc6b4 \uc9c0\uc5ed\uc758 \ub9db\uc9d1\uc5d0\uc11c \uc800\ub141 \uc2dd\uc0ac\ub97c \uc990\uae38 \uc218 \uc788\uc744 \uac83\uc785\ub2c8\ub2e4.\n",
            "\n",
            "\ub9c8\uc9c0\ub9c9 \ub0a0\uc740 Rome\uc758 \ud2b9\ubcc4\ud55c \uc21c\uac04\uc744 \ub9cc\ub4e4\uae30 \uc704\ud574, Vatican City\uc5d0\uc11c \ub354 \ub9ce\uc740 \uc2dc\uac04\uc744 \ubcf4\ub0b4\uac70\ub098, \ub098\uba38\uc9c0 \uc2dc\uac04\uc744 \uc774\uc6a9\ud574\uc11c \ub2e4\ub978 \uba85\uc18c\ub4e4\uc744 \ubc29\ubb38\ud558\uc2e4 \uc218 \uc788\uaca0\uc8e0. \ub610\ud55c, \uc800\ub141 \uc2dd\uc0ac \ud6c4\uc5d0\ub294 Grand Hotel\uc5d0\uc11c \ub9c8\uc9c0\ub9c9 \uc800\ub141\uc744 \uc990\uae38 \uc218 \uc788\uc744 \uac83\uc785\ub2c8\ub2e4.\n",
            "\n",
            "Rome\uc758 \ub0a0\uc528\ub294 \ucd94\uc6cc\uc9c8 \uc218 \uc788\uc73c\ub2c8, \uac00\ubc29\uc744 \ubbf8\ub9ac \uc900\ube44\ud574 \uc8fc\uc168\uc73c\uba74 \ud569\ub2c8\ub2e4. \ub0a0\uc528\uac00 \uc88b\uc740 \ub0a0\uc5d0\ub294 \ud638\ud154 \uadfc\ucc98\uc758 \uacf5\uc6d0\uc5d0\uc11c \ud48d\uacbd\uc744 \uac10\uc0c1\ud574 \ubcf4\uc2e4 \uc218 \uc788\uc744 \uac83 \uac19\uc2b5\ub2c8\ub2e4. Rome\uc5d0\ub294 \ub9ce\uc740 \ubcfc\uac70\ub9ac\ub97c \uc788\uc73c\ub2c8, \uc774 \uc77c\uc815 \uc678\uc5d0\ub3c4 \ubc29\ubb38\ud560 \uc218 \uc788\ub294 \uacf3\ub4e4\ub3c4 \ucc3e\uc544\ubcf4\uc168\uc73c\uba74 \ud569\ub2c8\ub2e4.\n",
            "\n",
            "\uc5ec\ud589\uc744 \uc2dc\uc791\ud558\ub824\ub294 \ub2f9\uc2e0\uc758 \ub9c8\uc74c\uc744 \ud658\uc601\ud569\ub2c8\ub2e4. Rome\uc5d0\uc11c\uc758 \uc2dc\uac04\uc744 \uc990\uae38 \uc218 \uc788\ub3c4\ub85d \ucd5c\uc120\uc744 \ub2e4\ud558\uaca0\uc2b5\ub2c8\ub2e4. \uad81\uae08\ud55c \uc810\uc774\ub098 \ub3c4\uc6c0\uc774 \ud544\uc694\ud558\uc2dc\uba74 \uc5b8\uc81c\ub4e0\uc9c0 \uc54c\ub824\uc8fc\uc138\uc694.\n",
            "\n",
            "\uac10\uc0ac\ud569\ub2c8\ub2e4.\n",
            "\n",
            "Warmest regards,\n",
            "\n",
            "[Your Name]\n",
            "[Your Company Name]\n",
            "Estimated Total Cost: $ 1200\n"
          ]
        }
      ]
    }
  ]
}